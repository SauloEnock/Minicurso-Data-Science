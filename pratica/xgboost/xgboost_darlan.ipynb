{
 "cells": [
  {
   "cell_type": "markdown",
   "metadata": {
    "id": "wR6PbUHktFoj"
   },
   "source": [
    "### Titanic Database\n",
    "\n",
    "Esta é a lendária competição Titanic ML. A competição é simples: use o aprendizado de máquina para criar um modelo que preveja quais passageiros sobreviveram ao naufrágio do Titanic.\n",
    "\n",
    "Página da Competição: https://www.kaggle.com/c/titanic"
   ]
  },
  {
   "cell_type": "markdown",
   "metadata": {
    "id": "TVuCPr0DtFol"
   },
   "source": [
    "#### Dicionário dos dados\n",
    "\n",
    "| Variável | Definição | Valores |\n",
    "| --- | --- | --- |\n",
    "| survival | Sobreviveu | 0 = No, 1 = Yes |\n",
    "| pclass | Classe | 1 = 1st, 2 = 2nd, 3 = 3rd |\n",
    "| sex | Sexo\t|  |\n",
    "| Age | Idade (anos) |\n",
    "| sibsp | Nº de irmãos / cônjuge bordo do Titanic | \t\n",
    "| parch | Nº de pais/filhos a bordo do Titanic | \t\n",
    "| ticket | Bilhete | \t\n",
    "| fare | Tarifa\t | \n",
    "| cabin | Número da cabine | \t\n",
    "| embarked | Porto de embarcação | C = Cherbourg, Q = Queenstown, S = Southampton |\n",
    "\n",
    "#### Notas das variáveis\n",
    "**pclass**: um proxy para status socioeconômico (SES)\n",
    "1st = Supeior\n",
    "2nd = Médio\n",
    "3rd = Inferior\n",
    "\n",
    "**age**: a idade é fracionária se for menor que 1. Se a idade for estimada, ela está na forma de xx.5\n",
    "\n",
    "**sibsp**: O conjunto de dados define as relações familiares desta forma...\n",
    "Sibling = irmão, irmã, meio-irmão, meia-irmã\n",
    "Spouse = marido, esposa (amantes e noivos foram ignorados)\n",
    "\n",
    "**parch**: O conjunto de dados define as relações familiares dessa maneira...\n",
    "Parent = mãe, pai\n",
    "Child = filha, filho, enteada, enteado\n",
    "Algumas crianças viajavam apenas com uma babá, portanto parch=0 para elas."
   ]
  },
  {
   "cell_type": "markdown",
   "metadata": {
    "id": "DzRAjwlMtFoo"
   },
   "source": [
    "### Importar bibliotecas"
   ]
  },
  {
   "cell_type": "code",
   "execution_count": 1,
   "metadata": {
    "executionInfo": {
     "elapsed": 1018,
     "status": "ok",
     "timestamp": 1648562501965,
     "user": {
      "displayName": "Darlan Quintanilha",
      "photoUrl": "https://lh3.googleusercontent.com/a-/AOh14Gho9QhXpBr_K3-TYqRSVJqD3Y8smoOnabH_ToSp8da6hv1U-WOBXtTPxsWhlQuU7APNa6lh8Sl4AQjvZVtLqQFXsJaJ5_YV0aIE1Z5icQqve-uOYNOW1KR-ychx9GxHOiUvjl0-9k6WLPOQSzjkdOkYXE_I6FGAMvZEwutni_GwDa-fKORyFoIC9n03EQywUq60ofcaHdUsQvGVzvSABVIxl92vLcDIqa-BZEVJHz1VnNRgfY5zyA-DPQxRSjO2rog5BPnJwqeQXZ9IURhDFzs25NIbqRbOyZh1M-Wz3x5DmNdMf05cHb5nMRYEAA84-GrNsmXmqLSJdRymgyxl3roreuqeFqm3hW6MBQUD_yc0TVmuqx7YlpvasiYm3HHnfu-jw0Yk-FIg-X6mKen1Te5HGWqXy2ay1qQ2p4_46y05OaRWX1xEAqupt8JJ_F1moxGUD9egh-yK0TlllvXhTbQG4O62_KvepHbeQys5PYehC9rkBaDd3sTWvY523KQkxh_j2-bycyZWSsUvj1aRV-RWKX4AVjAMSYsq2BtosQXyHIi20WYZ1jVXn1r4cdYSofFPM3VCuejaTe0HbQBsO1ybayn6r6vmNx30C0l5oOqMl_1B_Nuj4_JMbkP2Muiv65cY932aRR5Rs4af1dNGgb6oxYFQWcTLdZXkBU4nvM2xv6RAspdZHGvBJlP_FqM-nbitg2cJapSnvbrcML--1qv9ZNp6jFWcayDcRR1AXvsJbpQQ19HWyWJ_s7eekd7awqEqEZc=s64",
      "userId": "03354826074941061531"
     },
     "user_tz": 180
    },
    "id": "1lK4rBCLtFop"
   },
   "outputs": [],
   "source": [
    "import numpy as np\n",
    "import pandas as pd\n",
    "import seaborn as sns\n",
    "import matplotlib.pyplot as plt\n",
    "%matplotlib inline\n",
    "\n",
    "import warnings\n",
    "warnings.filterwarnings('ignore')\n",
    "\n",
    "seed_number = 123"
   ]
  },
  {
   "cell_type": "code",
   "execution_count": 2,
   "metadata": {
    "colab": {
     "base_uri": "https://localhost:8080/"
    },
    "executionInfo": {
     "elapsed": 22405,
     "status": "ok",
     "timestamp": 1648562526299,
     "user": {
      "displayName": "Darlan Quintanilha",
      "photoUrl": "https://lh3.googleusercontent.com/a-/AOh14Gho9QhXpBr_K3-TYqRSVJqD3Y8smoOnabH_ToSp8da6hv1U-WOBXtTPxsWhlQuU7APNa6lh8Sl4AQjvZVtLqQFXsJaJ5_YV0aIE1Z5icQqve-uOYNOW1KR-ychx9GxHOiUvjl0-9k6WLPOQSzjkdOkYXE_I6FGAMvZEwutni_GwDa-fKORyFoIC9n03EQywUq60ofcaHdUsQvGVzvSABVIxl92vLcDIqa-BZEVJHz1VnNRgfY5zyA-DPQxRSjO2rog5BPnJwqeQXZ9IURhDFzs25NIbqRbOyZh1M-Wz3x5DmNdMf05cHb5nMRYEAA84-GrNsmXmqLSJdRymgyxl3roreuqeFqm3hW6MBQUD_yc0TVmuqx7YlpvasiYm3HHnfu-jw0Yk-FIg-X6mKen1Te5HGWqXy2ay1qQ2p4_46y05OaRWX1xEAqupt8JJ_F1moxGUD9egh-yK0TlllvXhTbQG4O62_KvepHbeQys5PYehC9rkBaDd3sTWvY523KQkxh_j2-bycyZWSsUvj1aRV-RWKX4AVjAMSYsq2BtosQXyHIi20WYZ1jVXn1r4cdYSofFPM3VCuejaTe0HbQBsO1ybayn6r6vmNx30C0l5oOqMl_1B_Nuj4_JMbkP2Muiv65cY932aRR5Rs4af1dNGgb6oxYFQWcTLdZXkBU4nvM2xv6RAspdZHGvBJlP_FqM-nbitg2cJapSnvbrcML--1qv9ZNp6jFWcayDcRR1AXvsJbpQQ19HWyWJ_s7eekd7awqEqEZc=s64",
      "userId": "03354826074941061531"
     },
     "user_tz": 180
    },
    "id": "tfOOMO62thUQ",
    "outputId": "e4880444-baee-47d0-ba4e-caa5cf5a7bf1"
   },
   "outputs": [
    {
     "name": "stdout",
     "output_type": "stream",
     "text": [
      "Mounted at /content/drive\n"
     ]
    }
   ],
   "source": [
    "main_dir = ''\n",
    "from google.colab import drive\n",
    "drive.mount('/content/drive')\n",
    "main_dir = '/content/drive/MyDrive/Cursos/Machine Learning - NCA/pratica/xgboost/'"
   ]
  },
  {
   "cell_type": "markdown",
   "metadata": {
    "id": "PpLA2ANLtFot"
   },
   "source": [
    "### Etapa 1: Lendo e entendendo os dados\n"
   ]
  },
  {
   "cell_type": "code",
   "execution_count": 3,
   "metadata": {
    "colab": {
     "base_uri": "https://localhost:8080/"
    },
    "executionInfo": {
     "elapsed": 2548,
     "status": "ok",
     "timestamp": 1648562528843,
     "user": {
      "displayName": "Darlan Quintanilha",
      "photoUrl": "https://lh3.googleusercontent.com/a-/AOh14Gho9QhXpBr_K3-TYqRSVJqD3Y8smoOnabH_ToSp8da6hv1U-WOBXtTPxsWhlQuU7APNa6lh8Sl4AQjvZVtLqQFXsJaJ5_YV0aIE1Z5icQqve-uOYNOW1KR-ychx9GxHOiUvjl0-9k6WLPOQSzjkdOkYXE_I6FGAMvZEwutni_GwDa-fKORyFoIC9n03EQywUq60ofcaHdUsQvGVzvSABVIxl92vLcDIqa-BZEVJHz1VnNRgfY5zyA-DPQxRSjO2rog5BPnJwqeQXZ9IURhDFzs25NIbqRbOyZh1M-Wz3x5DmNdMf05cHb5nMRYEAA84-GrNsmXmqLSJdRymgyxl3roreuqeFqm3hW6MBQUD_yc0TVmuqx7YlpvasiYm3HHnfu-jw0Yk-FIg-X6mKen1Te5HGWqXy2ay1qQ2p4_46y05OaRWX1xEAqupt8JJ_F1moxGUD9egh-yK0TlllvXhTbQG4O62_KvepHbeQys5PYehC9rkBaDd3sTWvY523KQkxh_j2-bycyZWSsUvj1aRV-RWKX4AVjAMSYsq2BtosQXyHIi20WYZ1jVXn1r4cdYSofFPM3VCuejaTe0HbQBsO1ybayn6r6vmNx30C0l5oOqMl_1B_Nuj4_JMbkP2Muiv65cY932aRR5Rs4af1dNGgb6oxYFQWcTLdZXkBU4nvM2xv6RAspdZHGvBJlP_FqM-nbitg2cJapSnvbrcML--1qv9ZNp6jFWcayDcRR1AXvsJbpQQ19HWyWJ_s7eekd7awqEqEZc=s64",
      "userId": "03354826074941061531"
     },
     "user_tz": 180
    },
    "id": "12exiqqCtFou",
    "outputId": "83f27aa2-44c7-4f4d-9d59-3023c3cf6e77"
   },
   "outputs": [
    {
     "data": {
      "text/plain": [
       "((891, 12), (418, 11))"
      ]
     },
     "execution_count": 3,
     "metadata": {},
     "output_type": "execute_result"
    }
   ],
   "source": [
    "train = pd.read_csv(f'{main_dir}input/train.csv')\n",
    "test = pd.read_csv(f'{main_dir}input/test.csv')\n",
    "train.shape, test.shape"
   ]
  },
  {
   "cell_type": "code",
   "execution_count": 4,
   "metadata": {
    "executionInfo": {
     "elapsed": 503,
     "status": "ok",
     "timestamp": 1648562556450,
     "user": {
      "displayName": "Darlan Quintanilha",
      "photoUrl": "https://lh3.googleusercontent.com/a-/AOh14Gho9QhXpBr_K3-TYqRSVJqD3Y8smoOnabH_ToSp8da6hv1U-WOBXtTPxsWhlQuU7APNa6lh8Sl4AQjvZVtLqQFXsJaJ5_YV0aIE1Z5icQqve-uOYNOW1KR-ychx9GxHOiUvjl0-9k6WLPOQSzjkdOkYXE_I6FGAMvZEwutni_GwDa-fKORyFoIC9n03EQywUq60ofcaHdUsQvGVzvSABVIxl92vLcDIqa-BZEVJHz1VnNRgfY5zyA-DPQxRSjO2rog5BPnJwqeQXZ9IURhDFzs25NIbqRbOyZh1M-Wz3x5DmNdMf05cHb5nMRYEAA84-GrNsmXmqLSJdRymgyxl3roreuqeFqm3hW6MBQUD_yc0TVmuqx7YlpvasiYm3HHnfu-jw0Yk-FIg-X6mKen1Te5HGWqXy2ay1qQ2p4_46y05OaRWX1xEAqupt8JJ_F1moxGUD9egh-yK0TlllvXhTbQG4O62_KvepHbeQys5PYehC9rkBaDd3sTWvY523KQkxh_j2-bycyZWSsUvj1aRV-RWKX4AVjAMSYsq2BtosQXyHIi20WYZ1jVXn1r4cdYSofFPM3VCuejaTe0HbQBsO1ybayn6r6vmNx30C0l5oOqMl_1B_Nuj4_JMbkP2Muiv65cY932aRR5Rs4af1dNGgb6oxYFQWcTLdZXkBU4nvM2xv6RAspdZHGvBJlP_FqM-nbitg2cJapSnvbrcML--1qv9ZNp6jFWcayDcRR1AXvsJbpQQ19HWyWJ_s7eekd7awqEqEZc=s64",
      "userId": "03354826074941061531"
     },
     "user_tz": 180
    },
    "id": "Tz9krdYktFox"
   },
   "outputs": [],
   "source": [
    "train.set_index('PassengerId', inplace=True)\n",
    "test.set_index('PassengerId', inplace=True)"
   ]
  },
  {
   "cell_type": "code",
   "execution_count": 5,
   "metadata": {
    "colab": {
     "base_uri": "https://localhost:8080/"
    },
    "executionInfo": {
     "elapsed": 428,
     "status": "ok",
     "timestamp": 1648562559178,
     "user": {
      "displayName": "Darlan Quintanilha",
      "photoUrl": "https://lh3.googleusercontent.com/a-/AOh14Gho9QhXpBr_K3-TYqRSVJqD3Y8smoOnabH_ToSp8da6hv1U-WOBXtTPxsWhlQuU7APNa6lh8Sl4AQjvZVtLqQFXsJaJ5_YV0aIE1Z5icQqve-uOYNOW1KR-ychx9GxHOiUvjl0-9k6WLPOQSzjkdOkYXE_I6FGAMvZEwutni_GwDa-fKORyFoIC9n03EQywUq60ofcaHdUsQvGVzvSABVIxl92vLcDIqa-BZEVJHz1VnNRgfY5zyA-DPQxRSjO2rog5BPnJwqeQXZ9IURhDFzs25NIbqRbOyZh1M-Wz3x5DmNdMf05cHb5nMRYEAA84-GrNsmXmqLSJdRymgyxl3roreuqeFqm3hW6MBQUD_yc0TVmuqx7YlpvasiYm3HHnfu-jw0Yk-FIg-X6mKen1Te5HGWqXy2ay1qQ2p4_46y05OaRWX1xEAqupt8JJ_F1moxGUD9egh-yK0TlllvXhTbQG4O62_KvepHbeQys5PYehC9rkBaDd3sTWvY523KQkxh_j2-bycyZWSsUvj1aRV-RWKX4AVjAMSYsq2BtosQXyHIi20WYZ1jVXn1r4cdYSofFPM3VCuejaTe0HbQBsO1ybayn6r6vmNx30C0l5oOqMl_1B_Nuj4_JMbkP2Muiv65cY932aRR5Rs4af1dNGgb6oxYFQWcTLdZXkBU4nvM2xv6RAspdZHGvBJlP_FqM-nbitg2cJapSnvbrcML--1qv9ZNp6jFWcayDcRR1AXvsJbpQQ19HWyWJ_s7eekd7awqEqEZc=s64",
      "userId": "03354826074941061531"
     },
     "user_tz": 180
    },
    "id": "nV995SNZtFoz",
    "outputId": "77bff626-b46f-4438-b8d6-d59e413cd6c4"
   },
   "outputs": [
    {
     "data": {
      "text/plain": [
       "Index(['Age', 'Cabin', 'Embarked', 'Fare', 'Name', 'Parch', 'Pclass', 'Sex',\n",
       "       'SibSp', 'Survived', 'Ticket'],\n",
       "      dtype='object')"
      ]
     },
     "execution_count": 5,
     "metadata": {},
     "output_type": "execute_result"
    }
   ],
   "source": [
    "data = pd.concat([train,test],sort=True)\n",
    "data.columns"
   ]
  },
  {
   "cell_type": "code",
   "execution_count": 6,
   "metadata": {
    "executionInfo": {
     "elapsed": 388,
     "status": "ok",
     "timestamp": 1648562567416,
     "user": {
      "displayName": "Darlan Quintanilha",
      "photoUrl": "https://lh3.googleusercontent.com/a-/AOh14Gho9QhXpBr_K3-TYqRSVJqD3Y8smoOnabH_ToSp8da6hv1U-WOBXtTPxsWhlQuU7APNa6lh8Sl4AQjvZVtLqQFXsJaJ5_YV0aIE1Z5icQqve-uOYNOW1KR-ychx9GxHOiUvjl0-9k6WLPOQSzjkdOkYXE_I6FGAMvZEwutni_GwDa-fKORyFoIC9n03EQywUq60ofcaHdUsQvGVzvSABVIxl92vLcDIqa-BZEVJHz1VnNRgfY5zyA-DPQxRSjO2rog5BPnJwqeQXZ9IURhDFzs25NIbqRbOyZh1M-Wz3x5DmNdMf05cHb5nMRYEAA84-GrNsmXmqLSJdRymgyxl3roreuqeFqm3hW6MBQUD_yc0TVmuqx7YlpvasiYm3HHnfu-jw0Yk-FIg-X6mKen1Te5HGWqXy2ay1qQ2p4_46y05OaRWX1xEAqupt8JJ_F1moxGUD9egh-yK0TlllvXhTbQG4O62_KvepHbeQys5PYehC9rkBaDd3sTWvY523KQkxh_j2-bycyZWSsUvj1aRV-RWKX4AVjAMSYsq2BtosQXyHIi20WYZ1jVXn1r4cdYSofFPM3VCuejaTe0HbQBsO1ybayn6r6vmNx30C0l5oOqMl_1B_Nuj4_JMbkP2Muiv65cY932aRR5Rs4af1dNGgb6oxYFQWcTLdZXkBU4nvM2xv6RAspdZHGvBJlP_FqM-nbitg2cJapSnvbrcML--1qv9ZNp6jFWcayDcRR1AXvsJbpQQ19HWyWJ_s7eekd7awqEqEZc=s64",
      "userId": "03354826074941061531"
     },
     "user_tz": 180
    },
    "id": "-OAKB9SdtFo1"
   },
   "outputs": [],
   "source": [
    "# Traduzir colunas\n",
    "data.columns = ['Idade', 'Cabine', 'Embarque', 'Tarifa', 'Nome', 'PaisFilhos',\n",
    "                'Classe', 'Sexo', 'IrmaosConjuge', 'Sobreviveu', 'Bilhete']\n",
    "\n",
    "# Traduzir valores\n",
    "sexo = {'male': 'homem', 'female': 'mulher'}\n",
    "data['Sexo'] = data['Sexo'].map(sexo)"
   ]
  },
  {
   "cell_type": "code",
   "execution_count": 7,
   "metadata": {
    "colab": {
     "base_uri": "https://localhost:8080/"
    },
    "executionInfo": {
     "elapsed": 468,
     "status": "ok",
     "timestamp": 1648562572610,
     "user": {
      "displayName": "Darlan Quintanilha",
      "photoUrl": "https://lh3.googleusercontent.com/a-/AOh14Gho9QhXpBr_K3-TYqRSVJqD3Y8smoOnabH_ToSp8da6hv1U-WOBXtTPxsWhlQuU7APNa6lh8Sl4AQjvZVtLqQFXsJaJ5_YV0aIE1Z5icQqve-uOYNOW1KR-ychx9GxHOiUvjl0-9k6WLPOQSzjkdOkYXE_I6FGAMvZEwutni_GwDa-fKORyFoIC9n03EQywUq60ofcaHdUsQvGVzvSABVIxl92vLcDIqa-BZEVJHz1VnNRgfY5zyA-DPQxRSjO2rog5BPnJwqeQXZ9IURhDFzs25NIbqRbOyZh1M-Wz3x5DmNdMf05cHb5nMRYEAA84-GrNsmXmqLSJdRymgyxl3roreuqeFqm3hW6MBQUD_yc0TVmuqx7YlpvasiYm3HHnfu-jw0Yk-FIg-X6mKen1Te5HGWqXy2ay1qQ2p4_46y05OaRWX1xEAqupt8JJ_F1moxGUD9egh-yK0TlllvXhTbQG4O62_KvepHbeQys5PYehC9rkBaDd3sTWvY523KQkxh_j2-bycyZWSsUvj1aRV-RWKX4AVjAMSYsq2BtosQXyHIi20WYZ1jVXn1r4cdYSofFPM3VCuejaTe0HbQBsO1ybayn6r6vmNx30C0l5oOqMl_1B_Nuj4_JMbkP2Muiv65cY932aRR5Rs4af1dNGgb6oxYFQWcTLdZXkBU4nvM2xv6RAspdZHGvBJlP_FqM-nbitg2cJapSnvbrcML--1qv9ZNp6jFWcayDcRR1AXvsJbpQQ19HWyWJ_s7eekd7awqEqEZc=s64",
      "userId": "03354826074941061531"
     },
     "user_tz": 180
    },
    "id": "I-i92a4BtFo3",
    "outputId": "c1045cb0-74c0-46f0-8284-a8a9b107adb2"
   },
   "outputs": [
    {
     "data": {
      "text/plain": [
       "((1309, 11),\n",
       " Index(['Idade', 'Cabine', 'Embarque', 'Tarifa', 'Nome', 'PaisFilhos', 'Classe',\n",
       "        'Sexo', 'IrmaosConjuge', 'Sobreviveu', 'Bilhete'],\n",
       "       dtype='object'))"
      ]
     },
     "execution_count": 7,
     "metadata": {},
     "output_type": "execute_result"
    }
   ],
   "source": [
    "# Verificar dimensão e colunas\n",
    "data.shape, data.columns"
   ]
  },
  {
   "cell_type": "code",
   "execution_count": 8,
   "metadata": {
    "colab": {
     "base_uri": "https://localhost:8080/",
     "height": 579
    },
    "executionInfo": {
     "elapsed": 392,
     "status": "ok",
     "timestamp": 1648562584338,
     "user": {
      "displayName": "Darlan Quintanilha",
      "photoUrl": "https://lh3.googleusercontent.com/a-/AOh14Gho9QhXpBr_K3-TYqRSVJqD3Y8smoOnabH_ToSp8da6hv1U-WOBXtTPxsWhlQuU7APNa6lh8Sl4AQjvZVtLqQFXsJaJ5_YV0aIE1Z5icQqve-uOYNOW1KR-ychx9GxHOiUvjl0-9k6WLPOQSzjkdOkYXE_I6FGAMvZEwutni_GwDa-fKORyFoIC9n03EQywUq60ofcaHdUsQvGVzvSABVIxl92vLcDIqa-BZEVJHz1VnNRgfY5zyA-DPQxRSjO2rog5BPnJwqeQXZ9IURhDFzs25NIbqRbOyZh1M-Wz3x5DmNdMf05cHb5nMRYEAA84-GrNsmXmqLSJdRymgyxl3roreuqeFqm3hW6MBQUD_yc0TVmuqx7YlpvasiYm3HHnfu-jw0Yk-FIg-X6mKen1Te5HGWqXy2ay1qQ2p4_46y05OaRWX1xEAqupt8JJ_F1moxGUD9egh-yK0TlllvXhTbQG4O62_KvepHbeQys5PYehC9rkBaDd3sTWvY523KQkxh_j2-bycyZWSsUvj1aRV-RWKX4AVjAMSYsq2BtosQXyHIi20WYZ1jVXn1r4cdYSofFPM3VCuejaTe0HbQBsO1ybayn6r6vmNx30C0l5oOqMl_1B_Nuj4_JMbkP2Muiv65cY932aRR5Rs4af1dNGgb6oxYFQWcTLdZXkBU4nvM2xv6RAspdZHGvBJlP_FqM-nbitg2cJapSnvbrcML--1qv9ZNp6jFWcayDcRR1AXvsJbpQQ19HWyWJ_s7eekd7awqEqEZc=s64",
      "userId": "03354826074941061531"
     },
     "user_tz": 180
    },
    "id": "sHy1DpVutFo4",
    "outputId": "77a65427-9cae-49ec-ba6c-b8b4049e23de"
   },
   "outputs": [
    {
     "data": {
      "text/html": [
       "\n",
       "  <div id=\"df-8171e384-5a25-4712-a896-84d48b2c55b5\">\n",
       "    <div class=\"colab-df-container\">\n",
       "      <div>\n",
       "<style scoped>\n",
       "    .dataframe tbody tr th:only-of-type {\n",
       "        vertical-align: middle;\n",
       "    }\n",
       "\n",
       "    .dataframe tbody tr th {\n",
       "        vertical-align: top;\n",
       "    }\n",
       "\n",
       "    .dataframe thead th {\n",
       "        text-align: right;\n",
       "    }\n",
       "</style>\n",
       "<table border=\"1\" class=\"dataframe\">\n",
       "  <thead>\n",
       "    <tr style=\"text-align: right;\">\n",
       "      <th></th>\n",
       "      <th>Idade</th>\n",
       "      <th>Cabine</th>\n",
       "      <th>Embarque</th>\n",
       "      <th>Tarifa</th>\n",
       "      <th>Nome</th>\n",
       "      <th>PaisFilhos</th>\n",
       "      <th>Classe</th>\n",
       "      <th>Sexo</th>\n",
       "      <th>IrmaosConjuge</th>\n",
       "      <th>Sobreviveu</th>\n",
       "      <th>Bilhete</th>\n",
       "    </tr>\n",
       "    <tr>\n",
       "      <th>PassengerId</th>\n",
       "      <th></th>\n",
       "      <th></th>\n",
       "      <th></th>\n",
       "      <th></th>\n",
       "      <th></th>\n",
       "      <th></th>\n",
       "      <th></th>\n",
       "      <th></th>\n",
       "      <th></th>\n",
       "      <th></th>\n",
       "      <th></th>\n",
       "    </tr>\n",
       "  </thead>\n",
       "  <tbody>\n",
       "    <tr>\n",
       "      <th>1</th>\n",
       "      <td>22.0</td>\n",
       "      <td>NaN</td>\n",
       "      <td>S</td>\n",
       "      <td>7.2500</td>\n",
       "      <td>Braund, Mr. Owen Harris</td>\n",
       "      <td>0</td>\n",
       "      <td>3</td>\n",
       "      <td>homem</td>\n",
       "      <td>1</td>\n",
       "      <td>0.0</td>\n",
       "      <td>A/5 21171</td>\n",
       "    </tr>\n",
       "    <tr>\n",
       "      <th>2</th>\n",
       "      <td>38.0</td>\n",
       "      <td>C85</td>\n",
       "      <td>C</td>\n",
       "      <td>71.2833</td>\n",
       "      <td>Cumings, Mrs. John Bradley (Florence Briggs Th...</td>\n",
       "      <td>0</td>\n",
       "      <td>1</td>\n",
       "      <td>mulher</td>\n",
       "      <td>1</td>\n",
       "      <td>1.0</td>\n",
       "      <td>PC 17599</td>\n",
       "    </tr>\n",
       "    <tr>\n",
       "      <th>3</th>\n",
       "      <td>26.0</td>\n",
       "      <td>NaN</td>\n",
       "      <td>S</td>\n",
       "      <td>7.9250</td>\n",
       "      <td>Heikkinen, Miss. Laina</td>\n",
       "      <td>0</td>\n",
       "      <td>3</td>\n",
       "      <td>mulher</td>\n",
       "      <td>0</td>\n",
       "      <td>1.0</td>\n",
       "      <td>STON/O2. 3101282</td>\n",
       "    </tr>\n",
       "    <tr>\n",
       "      <th>4</th>\n",
       "      <td>35.0</td>\n",
       "      <td>C123</td>\n",
       "      <td>S</td>\n",
       "      <td>53.1000</td>\n",
       "      <td>Futrelle, Mrs. Jacques Heath (Lily May Peel)</td>\n",
       "      <td>0</td>\n",
       "      <td>1</td>\n",
       "      <td>mulher</td>\n",
       "      <td>1</td>\n",
       "      <td>1.0</td>\n",
       "      <td>113803</td>\n",
       "    </tr>\n",
       "    <tr>\n",
       "      <th>5</th>\n",
       "      <td>35.0</td>\n",
       "      <td>NaN</td>\n",
       "      <td>S</td>\n",
       "      <td>8.0500</td>\n",
       "      <td>Allen, Mr. William Henry</td>\n",
       "      <td>0</td>\n",
       "      <td>3</td>\n",
       "      <td>homem</td>\n",
       "      <td>0</td>\n",
       "      <td>0.0</td>\n",
       "      <td>373450</td>\n",
       "    </tr>\n",
       "  </tbody>\n",
       "</table>\n",
       "</div>\n",
       "      <button class=\"colab-df-convert\" onclick=\"convertToInteractive('df-8171e384-5a25-4712-a896-84d48b2c55b5')\"\n",
       "              title=\"Convert this dataframe to an interactive table.\"\n",
       "              style=\"display:none;\">\n",
       "        \n",
       "  <svg xmlns=\"http://www.w3.org/2000/svg\" height=\"24px\"viewBox=\"0 0 24 24\"\n",
       "       width=\"24px\">\n",
       "    <path d=\"M0 0h24v24H0V0z\" fill=\"none\"/>\n",
       "    <path d=\"M18.56 5.44l.94 2.06.94-2.06 2.06-.94-2.06-.94-.94-2.06-.94 2.06-2.06.94zm-11 1L8.5 8.5l.94-2.06 2.06-.94-2.06-.94L8.5 2.5l-.94 2.06-2.06.94zm10 10l.94 2.06.94-2.06 2.06-.94-2.06-.94-.94-2.06-.94 2.06-2.06.94z\"/><path d=\"M17.41 7.96l-1.37-1.37c-.4-.4-.92-.59-1.43-.59-.52 0-1.04.2-1.43.59L10.3 9.45l-7.72 7.72c-.78.78-.78 2.05 0 2.83L4 21.41c.39.39.9.59 1.41.59.51 0 1.02-.2 1.41-.59l7.78-7.78 2.81-2.81c.8-.78.8-2.07 0-2.86zM5.41 20L4 18.59l7.72-7.72 1.47 1.35L5.41 20z\"/>\n",
       "  </svg>\n",
       "      </button>\n",
       "      \n",
       "  <style>\n",
       "    .colab-df-container {\n",
       "      display:flex;\n",
       "      flex-wrap:wrap;\n",
       "      gap: 12px;\n",
       "    }\n",
       "\n",
       "    .colab-df-convert {\n",
       "      background-color: #E8F0FE;\n",
       "      border: none;\n",
       "      border-radius: 50%;\n",
       "      cursor: pointer;\n",
       "      display: none;\n",
       "      fill: #1967D2;\n",
       "      height: 32px;\n",
       "      padding: 0 0 0 0;\n",
       "      width: 32px;\n",
       "    }\n",
       "\n",
       "    .colab-df-convert:hover {\n",
       "      background-color: #E2EBFA;\n",
       "      box-shadow: 0px 1px 2px rgba(60, 64, 67, 0.3), 0px 1px 3px 1px rgba(60, 64, 67, 0.15);\n",
       "      fill: #174EA6;\n",
       "    }\n",
       "\n",
       "    [theme=dark] .colab-df-convert {\n",
       "      background-color: #3B4455;\n",
       "      fill: #D2E3FC;\n",
       "    }\n",
       "\n",
       "    [theme=dark] .colab-df-convert:hover {\n",
       "      background-color: #434B5C;\n",
       "      box-shadow: 0px 1px 3px 1px rgba(0, 0, 0, 0.15);\n",
       "      filter: drop-shadow(0px 1px 2px rgba(0, 0, 0, 0.3));\n",
       "      fill: #FFFFFF;\n",
       "    }\n",
       "  </style>\n",
       "\n",
       "      <script>\n",
       "        const buttonEl =\n",
       "          document.querySelector('#df-8171e384-5a25-4712-a896-84d48b2c55b5 button.colab-df-convert');\n",
       "        buttonEl.style.display =\n",
       "          google.colab.kernel.accessAllowed ? 'block' : 'none';\n",
       "\n",
       "        async function convertToInteractive(key) {\n",
       "          const element = document.querySelector('#df-8171e384-5a25-4712-a896-84d48b2c55b5');\n",
       "          const dataTable =\n",
       "            await google.colab.kernel.invokeFunction('convertToInteractive',\n",
       "                                                     [key], {});\n",
       "          if (!dataTable) return;\n",
       "\n",
       "          const docLinkHtml = 'Like what you see? Visit the ' +\n",
       "            '<a target=\"_blank\" href=https://colab.research.google.com/notebooks/data_table.ipynb>data table notebook</a>'\n",
       "            + ' to learn more about interactive tables.';\n",
       "          element.innerHTML = '';\n",
       "          dataTable['output_type'] = 'display_data';\n",
       "          await google.colab.output.renderOutput(dataTable, element);\n",
       "          const docLink = document.createElement('div');\n",
       "          docLink.innerHTML = docLinkHtml;\n",
       "          element.appendChild(docLink);\n",
       "        }\n",
       "      </script>\n",
       "    </div>\n",
       "  </div>\n",
       "  "
      ],
      "text/plain": [
       "             Idade Cabine Embarque   Tarifa  \\\n",
       "PassengerId                                   \n",
       "1             22.0    NaN        S   7.2500   \n",
       "2             38.0    C85        C  71.2833   \n",
       "3             26.0    NaN        S   7.9250   \n",
       "4             35.0   C123        S  53.1000   \n",
       "5             35.0    NaN        S   8.0500   \n",
       "\n",
       "                                                          Nome  PaisFilhos  \\\n",
       "PassengerId                                                                  \n",
       "1                                      Braund, Mr. Owen Harris           0   \n",
       "2            Cumings, Mrs. John Bradley (Florence Briggs Th...           0   \n",
       "3                                       Heikkinen, Miss. Laina           0   \n",
       "4                 Futrelle, Mrs. Jacques Heath (Lily May Peel)           0   \n",
       "5                                     Allen, Mr. William Henry           0   \n",
       "\n",
       "             Classe    Sexo  IrmaosConjuge  Sobreviveu           Bilhete  \n",
       "PassengerId                                                               \n",
       "1                 3   homem              1         0.0         A/5 21171  \n",
       "2                 1  mulher              1         1.0          PC 17599  \n",
       "3                 3  mulher              0         1.0  STON/O2. 3101282  \n",
       "4                 1  mulher              1         1.0            113803  \n",
       "5                 3   homem              0         0.0            373450  "
      ]
     },
     "execution_count": 8,
     "metadata": {},
     "output_type": "execute_result"
    }
   ],
   "source": [
    "data.head()"
   ]
  },
  {
   "cell_type": "markdown",
   "metadata": {
    "id": "P5y7L5uitFo5"
   },
   "source": [
    "#### Entendendo os dados"
   ]
  },
  {
   "cell_type": "code",
   "execution_count": 9,
   "metadata": {
    "colab": {
     "base_uri": "https://localhost:8080/",
     "height": 300
    },
    "executionInfo": {
     "elapsed": 376,
     "status": "ok",
     "timestamp": 1648562623576,
     "user": {
      "displayName": "Darlan Quintanilha",
      "photoUrl": "https://lh3.googleusercontent.com/a-/AOh14Gho9QhXpBr_K3-TYqRSVJqD3Y8smoOnabH_ToSp8da6hv1U-WOBXtTPxsWhlQuU7APNa6lh8Sl4AQjvZVtLqQFXsJaJ5_YV0aIE1Z5icQqve-uOYNOW1KR-ychx9GxHOiUvjl0-9k6WLPOQSzjkdOkYXE_I6FGAMvZEwutni_GwDa-fKORyFoIC9n03EQywUq60ofcaHdUsQvGVzvSABVIxl92vLcDIqa-BZEVJHz1VnNRgfY5zyA-DPQxRSjO2rog5BPnJwqeQXZ9IURhDFzs25NIbqRbOyZh1M-Wz3x5DmNdMf05cHb5nMRYEAA84-GrNsmXmqLSJdRymgyxl3roreuqeFqm3hW6MBQUD_yc0TVmuqx7YlpvasiYm3HHnfu-jw0Yk-FIg-X6mKen1Te5HGWqXy2ay1qQ2p4_46y05OaRWX1xEAqupt8JJ_F1moxGUD9egh-yK0TlllvXhTbQG4O62_KvepHbeQys5PYehC9rkBaDd3sTWvY523KQkxh_j2-bycyZWSsUvj1aRV-RWKX4AVjAMSYsq2BtosQXyHIi20WYZ1jVXn1r4cdYSofFPM3VCuejaTe0HbQBsO1ybayn6r6vmNx30C0l5oOqMl_1B_Nuj4_JMbkP2Muiv65cY932aRR5Rs4af1dNGgb6oxYFQWcTLdZXkBU4nvM2xv6RAspdZHGvBJlP_FqM-nbitg2cJapSnvbrcML--1qv9ZNp6jFWcayDcRR1AXvsJbpQQ19HWyWJ_s7eekd7awqEqEZc=s64",
      "userId": "03354826074941061531"
     },
     "user_tz": 180
    },
    "id": "5Siz-Q9WtFo7",
    "outputId": "4b0aff01-24f5-44a4-8477-cc3a47d44b25"
   },
   "outputs": [
    {
     "data": {
      "text/html": [
       "\n",
       "  <div id=\"df-b2ab0428-e0de-46c2-8668-8b3c54ac48e5\">\n",
       "    <div class=\"colab-df-container\">\n",
       "      <div>\n",
       "<style scoped>\n",
       "    .dataframe tbody tr th:only-of-type {\n",
       "        vertical-align: middle;\n",
       "    }\n",
       "\n",
       "    .dataframe tbody tr th {\n",
       "        vertical-align: top;\n",
       "    }\n",
       "\n",
       "    .dataframe thead th {\n",
       "        text-align: right;\n",
       "    }\n",
       "</style>\n",
       "<table border=\"1\" class=\"dataframe\">\n",
       "  <thead>\n",
       "    <tr style=\"text-align: right;\">\n",
       "      <th></th>\n",
       "      <th>Idade</th>\n",
       "      <th>Tarifa</th>\n",
       "      <th>PaisFilhos</th>\n",
       "      <th>Classe</th>\n",
       "      <th>IrmaosConjuge</th>\n",
       "      <th>Sobreviveu</th>\n",
       "    </tr>\n",
       "  </thead>\n",
       "  <tbody>\n",
       "    <tr>\n",
       "      <th>count</th>\n",
       "      <td>1046.000000</td>\n",
       "      <td>1308.000000</td>\n",
       "      <td>1309.000000</td>\n",
       "      <td>1309.000000</td>\n",
       "      <td>1309.000000</td>\n",
       "      <td>891.000000</td>\n",
       "    </tr>\n",
       "    <tr>\n",
       "      <th>mean</th>\n",
       "      <td>29.881138</td>\n",
       "      <td>33.295479</td>\n",
       "      <td>0.385027</td>\n",
       "      <td>2.294882</td>\n",
       "      <td>0.498854</td>\n",
       "      <td>0.383838</td>\n",
       "    </tr>\n",
       "    <tr>\n",
       "      <th>std</th>\n",
       "      <td>14.413493</td>\n",
       "      <td>51.758668</td>\n",
       "      <td>0.865560</td>\n",
       "      <td>0.837836</td>\n",
       "      <td>1.041658</td>\n",
       "      <td>0.486592</td>\n",
       "    </tr>\n",
       "    <tr>\n",
       "      <th>min</th>\n",
       "      <td>0.170000</td>\n",
       "      <td>0.000000</td>\n",
       "      <td>0.000000</td>\n",
       "      <td>1.000000</td>\n",
       "      <td>0.000000</td>\n",
       "      <td>0.000000</td>\n",
       "    </tr>\n",
       "    <tr>\n",
       "      <th>25%</th>\n",
       "      <td>21.000000</td>\n",
       "      <td>7.895800</td>\n",
       "      <td>0.000000</td>\n",
       "      <td>2.000000</td>\n",
       "      <td>0.000000</td>\n",
       "      <td>0.000000</td>\n",
       "    </tr>\n",
       "    <tr>\n",
       "      <th>50%</th>\n",
       "      <td>28.000000</td>\n",
       "      <td>14.454200</td>\n",
       "      <td>0.000000</td>\n",
       "      <td>3.000000</td>\n",
       "      <td>0.000000</td>\n",
       "      <td>0.000000</td>\n",
       "    </tr>\n",
       "    <tr>\n",
       "      <th>75%</th>\n",
       "      <td>39.000000</td>\n",
       "      <td>31.275000</td>\n",
       "      <td>0.000000</td>\n",
       "      <td>3.000000</td>\n",
       "      <td>1.000000</td>\n",
       "      <td>1.000000</td>\n",
       "    </tr>\n",
       "    <tr>\n",
       "      <th>max</th>\n",
       "      <td>80.000000</td>\n",
       "      <td>512.329200</td>\n",
       "      <td>9.000000</td>\n",
       "      <td>3.000000</td>\n",
       "      <td>8.000000</td>\n",
       "      <td>1.000000</td>\n",
       "    </tr>\n",
       "  </tbody>\n",
       "</table>\n",
       "</div>\n",
       "      <button class=\"colab-df-convert\" onclick=\"convertToInteractive('df-b2ab0428-e0de-46c2-8668-8b3c54ac48e5')\"\n",
       "              title=\"Convert this dataframe to an interactive table.\"\n",
       "              style=\"display:none;\">\n",
       "        \n",
       "  <svg xmlns=\"http://www.w3.org/2000/svg\" height=\"24px\"viewBox=\"0 0 24 24\"\n",
       "       width=\"24px\">\n",
       "    <path d=\"M0 0h24v24H0V0z\" fill=\"none\"/>\n",
       "    <path d=\"M18.56 5.44l.94 2.06.94-2.06 2.06-.94-2.06-.94-.94-2.06-.94 2.06-2.06.94zm-11 1L8.5 8.5l.94-2.06 2.06-.94-2.06-.94L8.5 2.5l-.94 2.06-2.06.94zm10 10l.94 2.06.94-2.06 2.06-.94-2.06-.94-.94-2.06-.94 2.06-2.06.94z\"/><path d=\"M17.41 7.96l-1.37-1.37c-.4-.4-.92-.59-1.43-.59-.52 0-1.04.2-1.43.59L10.3 9.45l-7.72 7.72c-.78.78-.78 2.05 0 2.83L4 21.41c.39.39.9.59 1.41.59.51 0 1.02-.2 1.41-.59l7.78-7.78 2.81-2.81c.8-.78.8-2.07 0-2.86zM5.41 20L4 18.59l7.72-7.72 1.47 1.35L5.41 20z\"/>\n",
       "  </svg>\n",
       "      </button>\n",
       "      \n",
       "  <style>\n",
       "    .colab-df-container {\n",
       "      display:flex;\n",
       "      flex-wrap:wrap;\n",
       "      gap: 12px;\n",
       "    }\n",
       "\n",
       "    .colab-df-convert {\n",
       "      background-color: #E8F0FE;\n",
       "      border: none;\n",
       "      border-radius: 50%;\n",
       "      cursor: pointer;\n",
       "      display: none;\n",
       "      fill: #1967D2;\n",
       "      height: 32px;\n",
       "      padding: 0 0 0 0;\n",
       "      width: 32px;\n",
       "    }\n",
       "\n",
       "    .colab-df-convert:hover {\n",
       "      background-color: #E2EBFA;\n",
       "      box-shadow: 0px 1px 2px rgba(60, 64, 67, 0.3), 0px 1px 3px 1px rgba(60, 64, 67, 0.15);\n",
       "      fill: #174EA6;\n",
       "    }\n",
       "\n",
       "    [theme=dark] .colab-df-convert {\n",
       "      background-color: #3B4455;\n",
       "      fill: #D2E3FC;\n",
       "    }\n",
       "\n",
       "    [theme=dark] .colab-df-convert:hover {\n",
       "      background-color: #434B5C;\n",
       "      box-shadow: 0px 1px 3px 1px rgba(0, 0, 0, 0.15);\n",
       "      filter: drop-shadow(0px 1px 2px rgba(0, 0, 0, 0.3));\n",
       "      fill: #FFFFFF;\n",
       "    }\n",
       "  </style>\n",
       "\n",
       "      <script>\n",
       "        const buttonEl =\n",
       "          document.querySelector('#df-b2ab0428-e0de-46c2-8668-8b3c54ac48e5 button.colab-df-convert');\n",
       "        buttonEl.style.display =\n",
       "          google.colab.kernel.accessAllowed ? 'block' : 'none';\n",
       "\n",
       "        async function convertToInteractive(key) {\n",
       "          const element = document.querySelector('#df-b2ab0428-e0de-46c2-8668-8b3c54ac48e5');\n",
       "          const dataTable =\n",
       "            await google.colab.kernel.invokeFunction('convertToInteractive',\n",
       "                                                     [key], {});\n",
       "          if (!dataTable) return;\n",
       "\n",
       "          const docLinkHtml = 'Like what you see? Visit the ' +\n",
       "            '<a target=\"_blank\" href=https://colab.research.google.com/notebooks/data_table.ipynb>data table notebook</a>'\n",
       "            + ' to learn more about interactive tables.';\n",
       "          element.innerHTML = '';\n",
       "          dataTable['output_type'] = 'display_data';\n",
       "          await google.colab.output.renderOutput(dataTable, element);\n",
       "          const docLink = document.createElement('div');\n",
       "          docLink.innerHTML = docLinkHtml;\n",
       "          element.appendChild(docLink);\n",
       "        }\n",
       "      </script>\n",
       "    </div>\n",
       "  </div>\n",
       "  "
      ],
      "text/plain": [
       "             Idade       Tarifa   PaisFilhos       Classe  IrmaosConjuge  \\\n",
       "count  1046.000000  1308.000000  1309.000000  1309.000000    1309.000000   \n",
       "mean     29.881138    33.295479     0.385027     2.294882       0.498854   \n",
       "std      14.413493    51.758668     0.865560     0.837836       1.041658   \n",
       "min       0.170000     0.000000     0.000000     1.000000       0.000000   \n",
       "25%      21.000000     7.895800     0.000000     2.000000       0.000000   \n",
       "50%      28.000000    14.454200     0.000000     3.000000       0.000000   \n",
       "75%      39.000000    31.275000     0.000000     3.000000       1.000000   \n",
       "max      80.000000   512.329200     9.000000     3.000000       8.000000   \n",
       "\n",
       "       Sobreviveu  \n",
       "count  891.000000  \n",
       "mean     0.383838  \n",
       "std      0.486592  \n",
       "min      0.000000  \n",
       "25%      0.000000  \n",
       "50%      0.000000  \n",
       "75%      1.000000  \n",
       "max      1.000000  "
      ]
     },
     "execution_count": 9,
     "metadata": {},
     "output_type": "execute_result"
    }
   ],
   "source": [
    "# Descrição dos dados numéricos\n",
    "data.describe()\n",
    "# Nominal: Sobreviveu\n",
    "# Ordinal: Classe\n",
    "# Discreto: PaisFilhos, IrmaosConjuge\n",
    "# Contínuo: Idade, Tarifa"
   ]
  },
  {
   "cell_type": "code",
   "execution_count": 10,
   "metadata": {
    "colab": {
     "base_uri": "https://localhost:8080/",
     "height": 175
    },
    "executionInfo": {
     "elapsed": 386,
     "status": "ok",
     "timestamp": 1648562665326,
     "user": {
      "displayName": "Darlan Quintanilha",
      "photoUrl": "https://lh3.googleusercontent.com/a-/AOh14Gho9QhXpBr_K3-TYqRSVJqD3Y8smoOnabH_ToSp8da6hv1U-WOBXtTPxsWhlQuU7APNa6lh8Sl4AQjvZVtLqQFXsJaJ5_YV0aIE1Z5icQqve-uOYNOW1KR-ychx9GxHOiUvjl0-9k6WLPOQSzjkdOkYXE_I6FGAMvZEwutni_GwDa-fKORyFoIC9n03EQywUq60ofcaHdUsQvGVzvSABVIxl92vLcDIqa-BZEVJHz1VnNRgfY5zyA-DPQxRSjO2rog5BPnJwqeQXZ9IURhDFzs25NIbqRbOyZh1M-Wz3x5DmNdMf05cHb5nMRYEAA84-GrNsmXmqLSJdRymgyxl3roreuqeFqm3hW6MBQUD_yc0TVmuqx7YlpvasiYm3HHnfu-jw0Yk-FIg-X6mKen1Te5HGWqXy2ay1qQ2p4_46y05OaRWX1xEAqupt8JJ_F1moxGUD9egh-yK0TlllvXhTbQG4O62_KvepHbeQys5PYehC9rkBaDd3sTWvY523KQkxh_j2-bycyZWSsUvj1aRV-RWKX4AVjAMSYsq2BtosQXyHIi20WYZ1jVXn1r4cdYSofFPM3VCuejaTe0HbQBsO1ybayn6r6vmNx30C0l5oOqMl_1B_Nuj4_JMbkP2Muiv65cY932aRR5Rs4af1dNGgb6oxYFQWcTLdZXkBU4nvM2xv6RAspdZHGvBJlP_FqM-nbitg2cJapSnvbrcML--1qv9ZNp6jFWcayDcRR1AXvsJbpQQ19HWyWJ_s7eekd7awqEqEZc=s64",
      "userId": "03354826074941061531"
     },
     "user_tz": 180
    },
    "id": "AEMCTJlutFo8",
    "outputId": "598f735d-1422-4324-af83-3ddeff817594"
   },
   "outputs": [
    {
     "data": {
      "text/html": [
       "\n",
       "  <div id=\"df-ef81ee80-1b43-4dc7-81ca-5f4a300567b5\">\n",
       "    <div class=\"colab-df-container\">\n",
       "      <div>\n",
       "<style scoped>\n",
       "    .dataframe tbody tr th:only-of-type {\n",
       "        vertical-align: middle;\n",
       "    }\n",
       "\n",
       "    .dataframe tbody tr th {\n",
       "        vertical-align: top;\n",
       "    }\n",
       "\n",
       "    .dataframe thead th {\n",
       "        text-align: right;\n",
       "    }\n",
       "</style>\n",
       "<table border=\"1\" class=\"dataframe\">\n",
       "  <thead>\n",
       "    <tr style=\"text-align: right;\">\n",
       "      <th></th>\n",
       "      <th>Cabine</th>\n",
       "      <th>Embarque</th>\n",
       "      <th>Nome</th>\n",
       "      <th>Sexo</th>\n",
       "      <th>Bilhete</th>\n",
       "    </tr>\n",
       "  </thead>\n",
       "  <tbody>\n",
       "    <tr>\n",
       "      <th>count</th>\n",
       "      <td>295</td>\n",
       "      <td>1307</td>\n",
       "      <td>1309</td>\n",
       "      <td>1309</td>\n",
       "      <td>1309</td>\n",
       "    </tr>\n",
       "    <tr>\n",
       "      <th>unique</th>\n",
       "      <td>186</td>\n",
       "      <td>3</td>\n",
       "      <td>1307</td>\n",
       "      <td>2</td>\n",
       "      <td>929</td>\n",
       "    </tr>\n",
       "    <tr>\n",
       "      <th>top</th>\n",
       "      <td>C23 C25 C27</td>\n",
       "      <td>S</td>\n",
       "      <td>Connolly, Miss. Kate</td>\n",
       "      <td>homem</td>\n",
       "      <td>CA. 2343</td>\n",
       "    </tr>\n",
       "    <tr>\n",
       "      <th>freq</th>\n",
       "      <td>6</td>\n",
       "      <td>914</td>\n",
       "      <td>2</td>\n",
       "      <td>843</td>\n",
       "      <td>11</td>\n",
       "    </tr>\n",
       "  </tbody>\n",
       "</table>\n",
       "</div>\n",
       "      <button class=\"colab-df-convert\" onclick=\"convertToInteractive('df-ef81ee80-1b43-4dc7-81ca-5f4a300567b5')\"\n",
       "              title=\"Convert this dataframe to an interactive table.\"\n",
       "              style=\"display:none;\">\n",
       "        \n",
       "  <svg xmlns=\"http://www.w3.org/2000/svg\" height=\"24px\"viewBox=\"0 0 24 24\"\n",
       "       width=\"24px\">\n",
       "    <path d=\"M0 0h24v24H0V0z\" fill=\"none\"/>\n",
       "    <path d=\"M18.56 5.44l.94 2.06.94-2.06 2.06-.94-2.06-.94-.94-2.06-.94 2.06-2.06.94zm-11 1L8.5 8.5l.94-2.06 2.06-.94-2.06-.94L8.5 2.5l-.94 2.06-2.06.94zm10 10l.94 2.06.94-2.06 2.06-.94-2.06-.94-.94-2.06-.94 2.06-2.06.94z\"/><path d=\"M17.41 7.96l-1.37-1.37c-.4-.4-.92-.59-1.43-.59-.52 0-1.04.2-1.43.59L10.3 9.45l-7.72 7.72c-.78.78-.78 2.05 0 2.83L4 21.41c.39.39.9.59 1.41.59.51 0 1.02-.2 1.41-.59l7.78-7.78 2.81-2.81c.8-.78.8-2.07 0-2.86zM5.41 20L4 18.59l7.72-7.72 1.47 1.35L5.41 20z\"/>\n",
       "  </svg>\n",
       "      </button>\n",
       "      \n",
       "  <style>\n",
       "    .colab-df-container {\n",
       "      display:flex;\n",
       "      flex-wrap:wrap;\n",
       "      gap: 12px;\n",
       "    }\n",
       "\n",
       "    .colab-df-convert {\n",
       "      background-color: #E8F0FE;\n",
       "      border: none;\n",
       "      border-radius: 50%;\n",
       "      cursor: pointer;\n",
       "      display: none;\n",
       "      fill: #1967D2;\n",
       "      height: 32px;\n",
       "      padding: 0 0 0 0;\n",
       "      width: 32px;\n",
       "    }\n",
       "\n",
       "    .colab-df-convert:hover {\n",
       "      background-color: #E2EBFA;\n",
       "      box-shadow: 0px 1px 2px rgba(60, 64, 67, 0.3), 0px 1px 3px 1px rgba(60, 64, 67, 0.15);\n",
       "      fill: #174EA6;\n",
       "    }\n",
       "\n",
       "    [theme=dark] .colab-df-convert {\n",
       "      background-color: #3B4455;\n",
       "      fill: #D2E3FC;\n",
       "    }\n",
       "\n",
       "    [theme=dark] .colab-df-convert:hover {\n",
       "      background-color: #434B5C;\n",
       "      box-shadow: 0px 1px 3px 1px rgba(0, 0, 0, 0.15);\n",
       "      filter: drop-shadow(0px 1px 2px rgba(0, 0, 0, 0.3));\n",
       "      fill: #FFFFFF;\n",
       "    }\n",
       "  </style>\n",
       "\n",
       "      <script>\n",
       "        const buttonEl =\n",
       "          document.querySelector('#df-ef81ee80-1b43-4dc7-81ca-5f4a300567b5 button.colab-df-convert');\n",
       "        buttonEl.style.display =\n",
       "          google.colab.kernel.accessAllowed ? 'block' : 'none';\n",
       "\n",
       "        async function convertToInteractive(key) {\n",
       "          const element = document.querySelector('#df-ef81ee80-1b43-4dc7-81ca-5f4a300567b5');\n",
       "          const dataTable =\n",
       "            await google.colab.kernel.invokeFunction('convertToInteractive',\n",
       "                                                     [key], {});\n",
       "          if (!dataTable) return;\n",
       "\n",
       "          const docLinkHtml = 'Like what you see? Visit the ' +\n",
       "            '<a target=\"_blank\" href=https://colab.research.google.com/notebooks/data_table.ipynb>data table notebook</a>'\n",
       "            + ' to learn more about interactive tables.';\n",
       "          element.innerHTML = '';\n",
       "          dataTable['output_type'] = 'display_data';\n",
       "          await google.colab.output.renderOutput(dataTable, element);\n",
       "          const docLink = document.createElement('div');\n",
       "          docLink.innerHTML = docLinkHtml;\n",
       "          element.appendChild(docLink);\n",
       "        }\n",
       "      </script>\n",
       "    </div>\n",
       "  </div>\n",
       "  "
      ],
      "text/plain": [
       "             Cabine Embarque                  Nome   Sexo   Bilhete\n",
       "count           295     1307                  1309   1309      1309\n",
       "unique          186        3                  1307      2       929\n",
       "top     C23 C25 C27        S  Connolly, Miss. Kate  homem  CA. 2343\n",
       "freq              6      914                     2    843        11"
      ]
     },
     "execution_count": 10,
     "metadata": {},
     "output_type": "execute_result"
    }
   ],
   "source": [
    "# Descrição dos dados categóricos\n",
    "data.describe(include=['O'])\n",
    "# Nominal: Sexo, Embarque"
   ]
  },
  {
   "cell_type": "markdown",
   "metadata": {
    "id": "0DOJkVHotFo-"
   },
   "source": [
    "### Etapa 2: Limpeza e preparação de dados"
   ]
  },
  {
   "cell_type": "code",
   "execution_count": 11,
   "metadata": {
    "colab": {
     "base_uri": "https://localhost:8080/",
     "height": 237
    },
    "executionInfo": {
     "elapsed": 459,
     "status": "ok",
     "timestamp": 1648562697577,
     "user": {
      "displayName": "Darlan Quintanilha",
      "photoUrl": "https://lh3.googleusercontent.com/a-/AOh14Gho9QhXpBr_K3-TYqRSVJqD3Y8smoOnabH_ToSp8da6hv1U-WOBXtTPxsWhlQuU7APNa6lh8Sl4AQjvZVtLqQFXsJaJ5_YV0aIE1Z5icQqve-uOYNOW1KR-ychx9GxHOiUvjl0-9k6WLPOQSzjkdOkYXE_I6FGAMvZEwutni_GwDa-fKORyFoIC9n03EQywUq60ofcaHdUsQvGVzvSABVIxl92vLcDIqa-BZEVJHz1VnNRgfY5zyA-DPQxRSjO2rog5BPnJwqeQXZ9IURhDFzs25NIbqRbOyZh1M-Wz3x5DmNdMf05cHb5nMRYEAA84-GrNsmXmqLSJdRymgyxl3roreuqeFqm3hW6MBQUD_yc0TVmuqx7YlpvasiYm3HHnfu-jw0Yk-FIg-X6mKen1Te5HGWqXy2ay1qQ2p4_46y05OaRWX1xEAqupt8JJ_F1moxGUD9egh-yK0TlllvXhTbQG4O62_KvepHbeQys5PYehC9rkBaDd3sTWvY523KQkxh_j2-bycyZWSsUvj1aRV-RWKX4AVjAMSYsq2BtosQXyHIi20WYZ1jVXn1r4cdYSofFPM3VCuejaTe0HbQBsO1ybayn6r6vmNx30C0l5oOqMl_1B_Nuj4_JMbkP2Muiv65cY932aRR5Rs4af1dNGgb6oxYFQWcTLdZXkBU4nvM2xv6RAspdZHGvBJlP_FqM-nbitg2cJapSnvbrcML--1qv9ZNp6jFWcayDcRR1AXvsJbpQQ19HWyWJ_s7eekd7awqEqEZc=s64",
      "userId": "03354826074941061531"
     },
     "user_tz": 180
    },
    "id": "Ik_xFrr-tFo_",
    "outputId": "e65636aa-7ef0-4b6a-df23-b2bcdd1a4784"
   },
   "outputs": [
    {
     "data": {
      "text/html": [
       "\n",
       "  <div id=\"df-9349bb2e-ef19-4cfe-9518-daf405436366\">\n",
       "    <div class=\"colab-df-container\">\n",
       "      <div>\n",
       "<style scoped>\n",
       "    .dataframe tbody tr th:only-of-type {\n",
       "        vertical-align: middle;\n",
       "    }\n",
       "\n",
       "    .dataframe tbody tr th {\n",
       "        vertical-align: top;\n",
       "    }\n",
       "\n",
       "    .dataframe thead th {\n",
       "        text-align: right;\n",
       "    }\n",
       "</style>\n",
       "<table border=\"1\" class=\"dataframe\">\n",
       "  <thead>\n",
       "    <tr style=\"text-align: right;\">\n",
       "      <th></th>\n",
       "      <th>Idade</th>\n",
       "      <th>Embarque</th>\n",
       "      <th>Tarifa</th>\n",
       "      <th>PaisFilhos</th>\n",
       "      <th>Classe</th>\n",
       "      <th>Sexo</th>\n",
       "      <th>IrmaosConjuge</th>\n",
       "      <th>Sobreviveu</th>\n",
       "    </tr>\n",
       "    <tr>\n",
       "      <th>PassengerId</th>\n",
       "      <th></th>\n",
       "      <th></th>\n",
       "      <th></th>\n",
       "      <th></th>\n",
       "      <th></th>\n",
       "      <th></th>\n",
       "      <th></th>\n",
       "      <th></th>\n",
       "    </tr>\n",
       "  </thead>\n",
       "  <tbody>\n",
       "    <tr>\n",
       "      <th>1</th>\n",
       "      <td>22.0</td>\n",
       "      <td>S</td>\n",
       "      <td>7.2500</td>\n",
       "      <td>0</td>\n",
       "      <td>3</td>\n",
       "      <td>homem</td>\n",
       "      <td>1</td>\n",
       "      <td>0.0</td>\n",
       "    </tr>\n",
       "    <tr>\n",
       "      <th>2</th>\n",
       "      <td>38.0</td>\n",
       "      <td>C</td>\n",
       "      <td>71.2833</td>\n",
       "      <td>0</td>\n",
       "      <td>1</td>\n",
       "      <td>mulher</td>\n",
       "      <td>1</td>\n",
       "      <td>1.0</td>\n",
       "    </tr>\n",
       "    <tr>\n",
       "      <th>3</th>\n",
       "      <td>26.0</td>\n",
       "      <td>S</td>\n",
       "      <td>7.9250</td>\n",
       "      <td>0</td>\n",
       "      <td>3</td>\n",
       "      <td>mulher</td>\n",
       "      <td>0</td>\n",
       "      <td>1.0</td>\n",
       "    </tr>\n",
       "    <tr>\n",
       "      <th>4</th>\n",
       "      <td>35.0</td>\n",
       "      <td>S</td>\n",
       "      <td>53.1000</td>\n",
       "      <td>0</td>\n",
       "      <td>1</td>\n",
       "      <td>mulher</td>\n",
       "      <td>1</td>\n",
       "      <td>1.0</td>\n",
       "    </tr>\n",
       "    <tr>\n",
       "      <th>5</th>\n",
       "      <td>35.0</td>\n",
       "      <td>S</td>\n",
       "      <td>8.0500</td>\n",
       "      <td>0</td>\n",
       "      <td>3</td>\n",
       "      <td>homem</td>\n",
       "      <td>0</td>\n",
       "      <td>0.0</td>\n",
       "    </tr>\n",
       "  </tbody>\n",
       "</table>\n",
       "</div>\n",
       "      <button class=\"colab-df-convert\" onclick=\"convertToInteractive('df-9349bb2e-ef19-4cfe-9518-daf405436366')\"\n",
       "              title=\"Convert this dataframe to an interactive table.\"\n",
       "              style=\"display:none;\">\n",
       "        \n",
       "  <svg xmlns=\"http://www.w3.org/2000/svg\" height=\"24px\"viewBox=\"0 0 24 24\"\n",
       "       width=\"24px\">\n",
       "    <path d=\"M0 0h24v24H0V0z\" fill=\"none\"/>\n",
       "    <path d=\"M18.56 5.44l.94 2.06.94-2.06 2.06-.94-2.06-.94-.94-2.06-.94 2.06-2.06.94zm-11 1L8.5 8.5l.94-2.06 2.06-.94-2.06-.94L8.5 2.5l-.94 2.06-2.06.94zm10 10l.94 2.06.94-2.06 2.06-.94-2.06-.94-.94-2.06-.94 2.06-2.06.94z\"/><path d=\"M17.41 7.96l-1.37-1.37c-.4-.4-.92-.59-1.43-.59-.52 0-1.04.2-1.43.59L10.3 9.45l-7.72 7.72c-.78.78-.78 2.05 0 2.83L4 21.41c.39.39.9.59 1.41.59.51 0 1.02-.2 1.41-.59l7.78-7.78 2.81-2.81c.8-.78.8-2.07 0-2.86zM5.41 20L4 18.59l7.72-7.72 1.47 1.35L5.41 20z\"/>\n",
       "  </svg>\n",
       "      </button>\n",
       "      \n",
       "  <style>\n",
       "    .colab-df-container {\n",
       "      display:flex;\n",
       "      flex-wrap:wrap;\n",
       "      gap: 12px;\n",
       "    }\n",
       "\n",
       "    .colab-df-convert {\n",
       "      background-color: #E8F0FE;\n",
       "      border: none;\n",
       "      border-radius: 50%;\n",
       "      cursor: pointer;\n",
       "      display: none;\n",
       "      fill: #1967D2;\n",
       "      height: 32px;\n",
       "      padding: 0 0 0 0;\n",
       "      width: 32px;\n",
       "    }\n",
       "\n",
       "    .colab-df-convert:hover {\n",
       "      background-color: #E2EBFA;\n",
       "      box-shadow: 0px 1px 2px rgba(60, 64, 67, 0.3), 0px 1px 3px 1px rgba(60, 64, 67, 0.15);\n",
       "      fill: #174EA6;\n",
       "    }\n",
       "\n",
       "    [theme=dark] .colab-df-convert {\n",
       "      background-color: #3B4455;\n",
       "      fill: #D2E3FC;\n",
       "    }\n",
       "\n",
       "    [theme=dark] .colab-df-convert:hover {\n",
       "      background-color: #434B5C;\n",
       "      box-shadow: 0px 1px 3px 1px rgba(0, 0, 0, 0.15);\n",
       "      filter: drop-shadow(0px 1px 2px rgba(0, 0, 0, 0.3));\n",
       "      fill: #FFFFFF;\n",
       "    }\n",
       "  </style>\n",
       "\n",
       "      <script>\n",
       "        const buttonEl =\n",
       "          document.querySelector('#df-9349bb2e-ef19-4cfe-9518-daf405436366 button.colab-df-convert');\n",
       "        buttonEl.style.display =\n",
       "          google.colab.kernel.accessAllowed ? 'block' : 'none';\n",
       "\n",
       "        async function convertToInteractive(key) {\n",
       "          const element = document.querySelector('#df-9349bb2e-ef19-4cfe-9518-daf405436366');\n",
       "          const dataTable =\n",
       "            await google.colab.kernel.invokeFunction('convertToInteractive',\n",
       "                                                     [key], {});\n",
       "          if (!dataTable) return;\n",
       "\n",
       "          const docLinkHtml = 'Like what you see? Visit the ' +\n",
       "            '<a target=\"_blank\" href=https://colab.research.google.com/notebooks/data_table.ipynb>data table notebook</a>'\n",
       "            + ' to learn more about interactive tables.';\n",
       "          element.innerHTML = '';\n",
       "          dataTable['output_type'] = 'display_data';\n",
       "          await google.colab.output.renderOutput(dataTable, element);\n",
       "          const docLink = document.createElement('div');\n",
       "          docLink.innerHTML = docLinkHtml;\n",
       "          element.appendChild(docLink);\n",
       "        }\n",
       "      </script>\n",
       "    </div>\n",
       "  </div>\n",
       "  "
      ],
      "text/plain": [
       "             Idade Embarque   Tarifa  PaisFilhos  Classe    Sexo  \\\n",
       "PassengerId                                                        \n",
       "1             22.0        S   7.2500           0       3   homem   \n",
       "2             38.0        C  71.2833           0       1  mulher   \n",
       "3             26.0        S   7.9250           0       3  mulher   \n",
       "4             35.0        S  53.1000           0       1  mulher   \n",
       "5             35.0        S   8.0500           0       3   homem   \n",
       "\n",
       "             IrmaosConjuge  Sobreviveu  \n",
       "PassengerId                             \n",
       "1                        1         0.0  \n",
       "2                        1         1.0  \n",
       "3                        0         1.0  \n",
       "4                        1         1.0  \n",
       "5                        0         0.0  "
      ]
     },
     "execution_count": 11,
     "metadata": {},
     "output_type": "execute_result"
    }
   ],
   "source": [
    "# Não é recomendado usar Cabine, Nome e Bilhete\n",
    "data.drop(['Cabine', 'Nome', 'Bilhete'], axis=1, inplace=True)\n",
    "data.head()"
   ]
  },
  {
   "cell_type": "markdown",
   "metadata": {
    "id": "hRRydEq2tFpA"
   },
   "source": [
    "#### Preenchendo dados incompletos (faltando dados)"
   ]
  },
  {
   "cell_type": "code",
   "execution_count": 12,
   "metadata": {
    "colab": {
     "base_uri": "https://localhost:8080/"
    },
    "executionInfo": {
     "elapsed": 385,
     "status": "ok",
     "timestamp": 1648562714670,
     "user": {
      "displayName": "Darlan Quintanilha",
      "photoUrl": "https://lh3.googleusercontent.com/a-/AOh14Gho9QhXpBr_K3-TYqRSVJqD3Y8smoOnabH_ToSp8da6hv1U-WOBXtTPxsWhlQuU7APNa6lh8Sl4AQjvZVtLqQFXsJaJ5_YV0aIE1Z5icQqve-uOYNOW1KR-ychx9GxHOiUvjl0-9k6WLPOQSzjkdOkYXE_I6FGAMvZEwutni_GwDa-fKORyFoIC9n03EQywUq60ofcaHdUsQvGVzvSABVIxl92vLcDIqa-BZEVJHz1VnNRgfY5zyA-DPQxRSjO2rog5BPnJwqeQXZ9IURhDFzs25NIbqRbOyZh1M-Wz3x5DmNdMf05cHb5nMRYEAA84-GrNsmXmqLSJdRymgyxl3roreuqeFqm3hW6MBQUD_yc0TVmuqx7YlpvasiYm3HHnfu-jw0Yk-FIg-X6mKen1Te5HGWqXy2ay1qQ2p4_46y05OaRWX1xEAqupt8JJ_F1moxGUD9egh-yK0TlllvXhTbQG4O62_KvepHbeQys5PYehC9rkBaDd3sTWvY523KQkxh_j2-bycyZWSsUvj1aRV-RWKX4AVjAMSYsq2BtosQXyHIi20WYZ1jVXn1r4cdYSofFPM3VCuejaTe0HbQBsO1ybayn6r6vmNx30C0l5oOqMl_1B_Nuj4_JMbkP2Muiv65cY932aRR5Rs4af1dNGgb6oxYFQWcTLdZXkBU4nvM2xv6RAspdZHGvBJlP_FqM-nbitg2cJapSnvbrcML--1qv9ZNp6jFWcayDcRR1AXvsJbpQQ19HWyWJ_s7eekd7awqEqEZc=s64",
      "userId": "03354826074941061531"
     },
     "user_tz": 180
    },
    "id": "zIw7DjSxtFpB",
    "outputId": "a22cb44d-4260-4936-9a4c-99f4cc36e0eb"
   },
   "outputs": [
    {
     "data": {
      "text/plain": [
       "Idade            263\n",
       "Embarque           2\n",
       "Tarifa             1\n",
       "PaisFilhos         0\n",
       "Classe             0\n",
       "Sexo               0\n",
       "IrmaosConjuge      0\n",
       "Sobreviveu       418\n",
       "dtype: int64"
      ]
     },
     "execution_count": 12,
     "metadata": {},
     "output_type": "execute_result"
    }
   ],
   "source": [
    "data.isnull().sum()"
   ]
  },
  {
   "cell_type": "code",
   "execution_count": 13,
   "metadata": {
    "colab": {
     "base_uri": "https://localhost:8080/"
    },
    "executionInfo": {
     "elapsed": 2,
     "status": "ok",
     "timestamp": 1648562794250,
     "user": {
      "displayName": "Darlan Quintanilha",
      "photoUrl": "https://lh3.googleusercontent.com/a-/AOh14Gho9QhXpBr_K3-TYqRSVJqD3Y8smoOnabH_ToSp8da6hv1U-WOBXtTPxsWhlQuU7APNa6lh8Sl4AQjvZVtLqQFXsJaJ5_YV0aIE1Z5icQqve-uOYNOW1KR-ychx9GxHOiUvjl0-9k6WLPOQSzjkdOkYXE_I6FGAMvZEwutni_GwDa-fKORyFoIC9n03EQywUq60ofcaHdUsQvGVzvSABVIxl92vLcDIqa-BZEVJHz1VnNRgfY5zyA-DPQxRSjO2rog5BPnJwqeQXZ9IURhDFzs25NIbqRbOyZh1M-Wz3x5DmNdMf05cHb5nMRYEAA84-GrNsmXmqLSJdRymgyxl3roreuqeFqm3hW6MBQUD_yc0TVmuqx7YlpvasiYm3HHnfu-jw0Yk-FIg-X6mKen1Te5HGWqXy2ay1qQ2p4_46y05OaRWX1xEAqupt8JJ_F1moxGUD9egh-yK0TlllvXhTbQG4O62_KvepHbeQys5PYehC9rkBaDd3sTWvY523KQkxh_j2-bycyZWSsUvj1aRV-RWKX4AVjAMSYsq2BtosQXyHIi20WYZ1jVXn1r4cdYSofFPM3VCuejaTe0HbQBsO1ybayn6r6vmNx30C0l5oOqMl_1B_Nuj4_JMbkP2Muiv65cY932aRR5Rs4af1dNGgb6oxYFQWcTLdZXkBU4nvM2xv6RAspdZHGvBJlP_FqM-nbitg2cJapSnvbrcML--1qv9ZNp6jFWcayDcRR1AXvsJbpQQ19HWyWJ_s7eekd7awqEqEZc=s64",
      "userId": "03354826074941061531"
     },
     "user_tz": 180
    },
    "id": "8Wgc5ESJtFpB",
    "outputId": "a052e436-95eb-41e3-c9c4-ab897cea458a"
   },
   "outputs": [
    {
     "data": {
      "text/plain": [
       "Idade              0\n",
       "Embarque           0\n",
       "Tarifa             0\n",
       "PaisFilhos         0\n",
       "Classe             0\n",
       "Sexo               0\n",
       "IrmaosConjuge      0\n",
       "Sobreviveu       418\n",
       "dtype: int64"
      ]
     },
     "execution_count": 13,
     "metadata": {},
     "output_type": "execute_result"
    }
   ],
   "source": [
    "#Preencher Embarque com Moda\n",
    "data['Embarque'].fillna(data['Embarque'].mode()[0], inplace=True)\n",
    "\n",
    "#Preencher Tarifa com Média\n",
    "data['Tarifa'].fillna(data['Tarifa'].mean(), inplace=True)\n",
    "\n",
    "#Preencher Idade com Mediana\n",
    "data['Idade'].fillna(data['Idade'].median(), inplace=True)\n",
    "\n",
    "data.isnull().sum()"
   ]
  },
  {
   "cell_type": "markdown",
   "metadata": {
    "id": "giL0DjfhtFpD"
   },
   "source": [
    "### Etapa 3: Visualizando os dados\n",
    "Observar os dados de forma visual para averiguar as suposições feitas até agora\n"
   ]
  },
  {
   "cell_type": "code",
   "execution_count": 14,
   "metadata": {
    "colab": {
     "base_uri": "https://localhost:8080/",
     "height": 401
    },
    "executionInfo": {
     "elapsed": 481,
     "status": "ok",
     "timestamp": 1648562808655,
     "user": {
      "displayName": "Darlan Quintanilha",
      "photoUrl": "https://lh3.googleusercontent.com/a-/AOh14Gho9QhXpBr_K3-TYqRSVJqD3Y8smoOnabH_ToSp8da6hv1U-WOBXtTPxsWhlQuU7APNa6lh8Sl4AQjvZVtLqQFXsJaJ5_YV0aIE1Z5icQqve-uOYNOW1KR-ychx9GxHOiUvjl0-9k6WLPOQSzjkdOkYXE_I6FGAMvZEwutni_GwDa-fKORyFoIC9n03EQywUq60ofcaHdUsQvGVzvSABVIxl92vLcDIqa-BZEVJHz1VnNRgfY5zyA-DPQxRSjO2rog5BPnJwqeQXZ9IURhDFzs25NIbqRbOyZh1M-Wz3x5DmNdMf05cHb5nMRYEAA84-GrNsmXmqLSJdRymgyxl3roreuqeFqm3hW6MBQUD_yc0TVmuqx7YlpvasiYm3HHnfu-jw0Yk-FIg-X6mKen1Te5HGWqXy2ay1qQ2p4_46y05OaRWX1xEAqupt8JJ_F1moxGUD9egh-yK0TlllvXhTbQG4O62_KvepHbeQys5PYehC9rkBaDd3sTWvY523KQkxh_j2-bycyZWSsUvj1aRV-RWKX4AVjAMSYsq2BtosQXyHIi20WYZ1jVXn1r4cdYSofFPM3VCuejaTe0HbQBsO1ybayn6r6vmNx30C0l5oOqMl_1B_Nuj4_JMbkP2Muiv65cY932aRR5Rs4af1dNGgb6oxYFQWcTLdZXkBU4nvM2xv6RAspdZHGvBJlP_FqM-nbitg2cJapSnvbrcML--1qv9ZNp6jFWcayDcRR1AXvsJbpQQ19HWyWJ_s7eekd7awqEqEZc=s64",
      "userId": "03354826074941061531"
     },
     "user_tz": 180
    },
    "id": "xdzkLUR8tFpD",
    "outputId": "cb60318a-cd8b-4311-eb05-a9087c8f77da"
   },
   "outputs": [
    {
     "name": "stdout",
     "output_type": "stream",
     "text": [
      "0.0    549\n",
      "1.0    342\n",
      "Name: Sobreviveu, dtype: int64\n",
      "0.0    0.616162\n",
      "1.0    0.383838\n",
      "Name: Sobreviveu, dtype: float64\n"
     ]
    },
    {
     "data": {
      "text/plain": [
       "<matplotlib.axes._subplots.AxesSubplot at 0x7f073c81cd50>"
      ]
     },
     "execution_count": 14,
     "metadata": {},
     "output_type": "execute_result"
    },
    {
     "data": {
      "image/png": "[encoded data removed]",
      "text/plain": [
       "<Figure size 432x288 with 1 Axes>"
      ]
     },
     "metadata": {
      "needs_background": "light"
     },
     "output_type": "display_data"
    }
   ],
   "source": [
    "# Sobreviveu - Frequência / Frequência relativa\n",
    "print(data['Sobreviveu'].value_counts())\n",
    "print(data['Sobreviveu'].value_counts()/data['Sobreviveu'].count())\n",
    "sns.histplot(data, x=\"Sobreviveu\", stat=\"probability\")"
   ]
  },
  {
   "cell_type": "markdown",
   "metadata": {
    "id": "RJ2goczxtFpE"
   },
   "source": [
    "#### Análise bivariada"
   ]
  },
  {
   "cell_type": "code",
   "execution_count": 15,
   "metadata": {
    "colab": {
     "base_uri": "https://localhost:8080/",
     "height": 506
    },
    "executionInfo": {
     "elapsed": 434,
     "status": "ok",
     "timestamp": 1648562853937,
     "user": {
      "displayName": "Darlan Quintanilha",
      "photoUrl": "https://lh3.googleusercontent.com/a-/AOh14Gho9QhXpBr_K3-TYqRSVJqD3Y8smoOnabH_ToSp8da6hv1U-WOBXtTPxsWhlQuU7APNa6lh8Sl4AQjvZVtLqQFXsJaJ5_YV0aIE1Z5icQqve-uOYNOW1KR-ychx9GxHOiUvjl0-9k6WLPOQSzjkdOkYXE_I6FGAMvZEwutni_GwDa-fKORyFoIC9n03EQywUq60ofcaHdUsQvGVzvSABVIxl92vLcDIqa-BZEVJHz1VnNRgfY5zyA-DPQxRSjO2rog5BPnJwqeQXZ9IURhDFzs25NIbqRbOyZh1M-Wz3x5DmNdMf05cHb5nMRYEAA84-GrNsmXmqLSJdRymgyxl3roreuqeFqm3hW6MBQUD_yc0TVmuqx7YlpvasiYm3HHnfu-jw0Yk-FIg-X6mKen1Te5HGWqXy2ay1qQ2p4_46y05OaRWX1xEAqupt8JJ_F1moxGUD9egh-yK0TlllvXhTbQG4O62_KvepHbeQys5PYehC9rkBaDd3sTWvY523KQkxh_j2-bycyZWSsUvj1aRV-RWKX4AVjAMSYsq2BtosQXyHIi20WYZ1jVXn1r4cdYSofFPM3VCuejaTe0HbQBsO1ybayn6r6vmNx30C0l5oOqMl_1B_Nuj4_JMbkP2Muiv65cY932aRR5Rs4af1dNGgb6oxYFQWcTLdZXkBU4nvM2xv6RAspdZHGvBJlP_FqM-nbitg2cJapSnvbrcML--1qv9ZNp6jFWcayDcRR1AXvsJbpQQ19HWyWJ_s7eekd7awqEqEZc=s64",
      "userId": "03354826074941061531"
     },
     "user_tz": 180
    },
    "id": "eU_LZVm1tFpE",
    "outputId": "b2235b2a-745e-42f4-9023-2cdff2d20c73"
   },
   "outputs": [
    {
     "data": {
      "image/png": "[encoded data removed]",
      "text/plain": [
       "<Figure size 720x360 with 2 Axes>"
      ]
     },
     "metadata": {
      "needs_background": "light"
     },
     "output_type": "display_data"
    },
    {
     "name": "stdout",
     "output_type": "stream",
     "text": [
      "        Sobreviveu\n",
      "Sexo              \n",
      "homem          577\n",
      "mulher         314\n",
      "        Sobreviveu\n",
      "Classe            \n",
      "3              491\n",
      "1              216\n",
      "2              184\n"
     ]
    }
   ],
   "source": [
    "plt.figure(figsize=(10,5))\n",
    "\n",
    "# Gráfico de barras (Sexo x Sobreviveu)\n",
    "plt.subplot(1,2,1)\n",
    "plt.title('Sobreviveu X Sexo')\n",
    "sns.countplot('Sexo',hue='Sobreviveu', data=data)\n",
    "\n",
    "# Gráfico de barras (Classe x Sobreviveu)\n",
    "plt.subplot(1,2,2)\n",
    "plt.title('Sobreviveu X Classe')\n",
    "sns.countplot('Classe',hue='Sobreviveu',data=data)\n",
    "\n",
    "plt.show();\n",
    "\n",
    "print(data[['Sexo', 'Sobreviveu']].groupby(['Sexo'])\n",
    ".count().sort_values(by='Sobreviveu', ascending=False))\n",
    "\n",
    "print(data[['Classe', 'Sobreviveu']].groupby(['Classe'])\n",
    ".count().sort_values(by='Sobreviveu', ascending=False))"
   ]
  },
  {
   "cell_type": "markdown",
   "metadata": {
    "id": "lp6hh4w_tFpF"
   },
   "source": [
    "<a name=\"barrassob\"></a>"
   ]
  },
  {
   "cell_type": "markdown",
   "metadata": {
    "id": "cLVI7OadtFpG"
   },
   "source": [
    "### Etapa 5: Variáveis Dummys"
   ]
  },
  {
   "cell_type": "code",
   "execution_count": 16,
   "metadata": {
    "colab": {
     "base_uri": "https://localhost:8080/",
     "height": 237
    },
    "executionInfo": {
     "elapsed": 511,
     "status": "ok",
     "timestamp": 1648562913541,
     "user": {
      "displayName": "Darlan Quintanilha",
      "photoUrl": "https://lh3.googleusercontent.com/a-/AOh14Gho9QhXpBr_K3-TYqRSVJqD3Y8smoOnabH_ToSp8da6hv1U-WOBXtTPxsWhlQuU7APNa6lh8Sl4AQjvZVtLqQFXsJaJ5_YV0aIE1Z5icQqve-uOYNOW1KR-ychx9GxHOiUvjl0-9k6WLPOQSzjkdOkYXE_I6FGAMvZEwutni_GwDa-fKORyFoIC9n03EQywUq60ofcaHdUsQvGVzvSABVIxl92vLcDIqa-BZEVJHz1VnNRgfY5zyA-DPQxRSjO2rog5BPnJwqeQXZ9IURhDFzs25NIbqRbOyZh1M-Wz3x5DmNdMf05cHb5nMRYEAA84-GrNsmXmqLSJdRymgyxl3roreuqeFqm3hW6MBQUD_yc0TVmuqx7YlpvasiYm3HHnfu-jw0Yk-FIg-X6mKen1Te5HGWqXy2ay1qQ2p4_46y05OaRWX1xEAqupt8JJ_F1moxGUD9egh-yK0TlllvXhTbQG4O62_KvepHbeQys5PYehC9rkBaDd3sTWvY523KQkxh_j2-bycyZWSsUvj1aRV-RWKX4AVjAMSYsq2BtosQXyHIi20WYZ1jVXn1r4cdYSofFPM3VCuejaTe0HbQBsO1ybayn6r6vmNx30C0l5oOqMl_1B_Nuj4_JMbkP2Muiv65cY932aRR5Rs4af1dNGgb6oxYFQWcTLdZXkBU4nvM2xv6RAspdZHGvBJlP_FqM-nbitg2cJapSnvbrcML--1qv9ZNp6jFWcayDcRR1AXvsJbpQQ19HWyWJ_s7eekd7awqEqEZc=s64",
      "userId": "03354826074941061531"
     },
     "user_tz": 180
    },
    "id": "JgxsjtJ4tFpH",
    "outputId": "0ad8ede5-a3df-49a8-f4cf-c849c5c97042"
   },
   "outputs": [
    {
     "data": {
      "text/html": [
       "\n",
       "  <div id=\"df-e75a421d-e3ad-48e3-a986-02064ef704b1\">\n",
       "    <div class=\"colab-df-container\">\n",
       "      <div>\n",
       "<style scoped>\n",
       "    .dataframe tbody tr th:only-of-type {\n",
       "        vertical-align: middle;\n",
       "    }\n",
       "\n",
       "    .dataframe tbody tr th {\n",
       "        vertical-align: top;\n",
       "    }\n",
       "\n",
       "    .dataframe thead th {\n",
       "        text-align: right;\n",
       "    }\n",
       "</style>\n",
       "<table border=\"1\" class=\"dataframe\">\n",
       "  <thead>\n",
       "    <tr style=\"text-align: right;\">\n",
       "      <th></th>\n",
       "      <th>Idade</th>\n",
       "      <th>Embarque</th>\n",
       "      <th>Tarifa</th>\n",
       "      <th>PaisFilhos</th>\n",
       "      <th>Classe</th>\n",
       "      <th>Sexo</th>\n",
       "      <th>IrmaosConjuge</th>\n",
       "      <th>Sobreviveu</th>\n",
       "    </tr>\n",
       "    <tr>\n",
       "      <th>PassengerId</th>\n",
       "      <th></th>\n",
       "      <th></th>\n",
       "      <th></th>\n",
       "      <th></th>\n",
       "      <th></th>\n",
       "      <th></th>\n",
       "      <th></th>\n",
       "      <th></th>\n",
       "    </tr>\n",
       "  </thead>\n",
       "  <tbody>\n",
       "    <tr>\n",
       "      <th>1</th>\n",
       "      <td>22.0</td>\n",
       "      <td>S</td>\n",
       "      <td>7.2500</td>\n",
       "      <td>0</td>\n",
       "      <td>3</td>\n",
       "      <td>homem</td>\n",
       "      <td>1</td>\n",
       "      <td>0.0</td>\n",
       "    </tr>\n",
       "    <tr>\n",
       "      <th>2</th>\n",
       "      <td>38.0</td>\n",
       "      <td>C</td>\n",
       "      <td>71.2833</td>\n",
       "      <td>0</td>\n",
       "      <td>1</td>\n",
       "      <td>mulher</td>\n",
       "      <td>1</td>\n",
       "      <td>1.0</td>\n",
       "    </tr>\n",
       "    <tr>\n",
       "      <th>3</th>\n",
       "      <td>26.0</td>\n",
       "      <td>S</td>\n",
       "      <td>7.9250</td>\n",
       "      <td>0</td>\n",
       "      <td>3</td>\n",
       "      <td>mulher</td>\n",
       "      <td>0</td>\n",
       "      <td>1.0</td>\n",
       "    </tr>\n",
       "    <tr>\n",
       "      <th>4</th>\n",
       "      <td>35.0</td>\n",
       "      <td>S</td>\n",
       "      <td>53.1000</td>\n",
       "      <td>0</td>\n",
       "      <td>1</td>\n",
       "      <td>mulher</td>\n",
       "      <td>1</td>\n",
       "      <td>1.0</td>\n",
       "    </tr>\n",
       "    <tr>\n",
       "      <th>5</th>\n",
       "      <td>35.0</td>\n",
       "      <td>S</td>\n",
       "      <td>8.0500</td>\n",
       "      <td>0</td>\n",
       "      <td>3</td>\n",
       "      <td>homem</td>\n",
       "      <td>0</td>\n",
       "      <td>0.0</td>\n",
       "    </tr>\n",
       "  </tbody>\n",
       "</table>\n",
       "</div>\n",
       "      <button class=\"colab-df-convert\" onclick=\"convertToInteractive('df-e75a421d-e3ad-48e3-a986-02064ef704b1')\"\n",
       "              title=\"Convert this dataframe to an interactive table.\"\n",
       "              style=\"display:none;\">\n",
       "        \n",
       "  <svg xmlns=\"http://www.w3.org/2000/svg\" height=\"24px\"viewBox=\"0 0 24 24\"\n",
       "       width=\"24px\">\n",
       "    <path d=\"M0 0h24v24H0V0z\" fill=\"none\"/>\n",
       "    <path d=\"M18.56 5.44l.94 2.06.94-2.06 2.06-.94-2.06-.94-.94-2.06-.94 2.06-2.06.94zm-11 1L8.5 8.5l.94-2.06 2.06-.94-2.06-.94L8.5 2.5l-.94 2.06-2.06.94zm10 10l.94 2.06.94-2.06 2.06-.94-2.06-.94-.94-2.06-.94 2.06-2.06.94z\"/><path d=\"M17.41 7.96l-1.37-1.37c-.4-.4-.92-.59-1.43-.59-.52 0-1.04.2-1.43.59L10.3 9.45l-7.72 7.72c-.78.78-.78 2.05 0 2.83L4 21.41c.39.39.9.59 1.41.59.51 0 1.02-.2 1.41-.59l7.78-7.78 2.81-2.81c.8-.78.8-2.07 0-2.86zM5.41 20L4 18.59l7.72-7.72 1.47 1.35L5.41 20z\"/>\n",
       "  </svg>\n",
       "      </button>\n",
       "      \n",
       "  <style>\n",
       "    .colab-df-container {\n",
       "      display:flex;\n",
       "      flex-wrap:wrap;\n",
       "      gap: 12px;\n",
       "    }\n",
       "\n",
       "    .colab-df-convert {\n",
       "      background-color: #E8F0FE;\n",
       "      border: none;\n",
       "      border-radius: 50%;\n",
       "      cursor: pointer;\n",
       "      display: none;\n",
       "      fill: #1967D2;\n",
       "      height: 32px;\n",
       "      padding: 0 0 0 0;\n",
       "      width: 32px;\n",
       "    }\n",
       "\n",
       "    .colab-df-convert:hover {\n",
       "      background-color: #E2EBFA;\n",
       "      box-shadow: 0px 1px 2px rgba(60, 64, 67, 0.3), 0px 1px 3px 1px rgba(60, 64, 67, 0.15);\n",
       "      fill: #174EA6;\n",
       "    }\n",
       "\n",
       "    [theme=dark] .colab-df-convert {\n",
       "      background-color: #3B4455;\n",
       "      fill: #D2E3FC;\n",
       "    }\n",
       "\n",
       "    [theme=dark] .colab-df-convert:hover {\n",
       "      background-color: #434B5C;\n",
       "      box-shadow: 0px 1px 3px 1px rgba(0, 0, 0, 0.15);\n",
       "      filter: drop-shadow(0px 1px 2px rgba(0, 0, 0, 0.3));\n",
       "      fill: #FFFFFF;\n",
       "    }\n",
       "  </style>\n",
       "\n",
       "      <script>\n",
       "        const buttonEl =\n",
       "          document.querySelector('#df-e75a421d-e3ad-48e3-a986-02064ef704b1 button.colab-df-convert');\n",
       "        buttonEl.style.display =\n",
       "          google.colab.kernel.accessAllowed ? 'block' : 'none';\n",
       "\n",
       "        async function convertToInteractive(key) {\n",
       "          const element = document.querySelector('#df-e75a421d-e3ad-48e3-a986-02064ef704b1');\n",
       "          const dataTable =\n",
       "            await google.colab.kernel.invokeFunction('convertToInteractive',\n",
       "                                                     [key], {});\n",
       "          if (!dataTable) return;\n",
       "\n",
       "          const docLinkHtml = 'Like what you see? Visit the ' +\n",
       "            '<a target=\"_blank\" href=https://colab.research.google.com/notebooks/data_table.ipynb>data table notebook</a>'\n",
       "            + ' to learn more about interactive tables.';\n",
       "          element.innerHTML = '';\n",
       "          dataTable['output_type'] = 'display_data';\n",
       "          await google.colab.output.renderOutput(dataTable, element);\n",
       "          const docLink = document.createElement('div');\n",
       "          docLink.innerHTML = docLinkHtml;\n",
       "          element.appendChild(docLink);\n",
       "        }\n",
       "      </script>\n",
       "    </div>\n",
       "  </div>\n",
       "  "
      ],
      "text/plain": [
       "             Idade Embarque   Tarifa  PaisFilhos  Classe    Sexo  \\\n",
       "PassengerId                                                        \n",
       "1             22.0        S   7.2500           0       3   homem   \n",
       "2             38.0        C  71.2833           0       1  mulher   \n",
       "3             26.0        S   7.9250           0       3  mulher   \n",
       "4             35.0        S  53.1000           0       1  mulher   \n",
       "5             35.0        S   8.0500           0       3   homem   \n",
       "\n",
       "             IrmaosConjuge  Sobreviveu  \n",
       "PassengerId                             \n",
       "1                        1         0.0  \n",
       "2                        1         1.0  \n",
       "3                        0         1.0  \n",
       "4                        1         1.0  \n",
       "5                        0         0.0  "
      ]
     },
     "execution_count": 16,
     "metadata": {},
     "output_type": "execute_result"
    }
   ],
   "source": [
    "data.head()"
   ]
  },
  {
   "cell_type": "code",
   "execution_count": 17,
   "metadata": {
    "colab": {
     "base_uri": "https://localhost:8080/"
    },
    "executionInfo": {
     "elapsed": 471,
     "status": "ok",
     "timestamp": 1648562922206,
     "user": {
      "displayName": "Darlan Quintanilha",
      "photoUrl": "https://lh3.googleusercontent.com/a-/AOh14Gho9QhXpBr_K3-TYqRSVJqD3Y8smoOnabH_ToSp8da6hv1U-WOBXtTPxsWhlQuU7APNa6lh8Sl4AQjvZVtLqQFXsJaJ5_YV0aIE1Z5icQqve-uOYNOW1KR-ychx9GxHOiUvjl0-9k6WLPOQSzjkdOkYXE_I6FGAMvZEwutni_GwDa-fKORyFoIC9n03EQywUq60ofcaHdUsQvGVzvSABVIxl92vLcDIqa-BZEVJHz1VnNRgfY5zyA-DPQxRSjO2rog5BPnJwqeQXZ9IURhDFzs25NIbqRbOyZh1M-Wz3x5DmNdMf05cHb5nMRYEAA84-GrNsmXmqLSJdRymgyxl3roreuqeFqm3hW6MBQUD_yc0TVmuqx7YlpvasiYm3HHnfu-jw0Yk-FIg-X6mKen1Te5HGWqXy2ay1qQ2p4_46y05OaRWX1xEAqupt8JJ_F1moxGUD9egh-yK0TlllvXhTbQG4O62_KvepHbeQys5PYehC9rkBaDd3sTWvY523KQkxh_j2-bycyZWSsUvj1aRV-RWKX4AVjAMSYsq2BtosQXyHIi20WYZ1jVXn1r4cdYSofFPM3VCuejaTe0HbQBsO1ybayn6r6vmNx30C0l5oOqMl_1B_Nuj4_JMbkP2Muiv65cY932aRR5Rs4af1dNGgb6oxYFQWcTLdZXkBU4nvM2xv6RAspdZHGvBJlP_FqM-nbitg2cJapSnvbrcML--1qv9ZNp6jFWcayDcRR1AXvsJbpQQ19HWyWJ_s7eekd7awqEqEZc=s64",
      "userId": "03354826074941061531"
     },
     "user_tz": 180
    },
    "id": "N6oBl_b6tFpH",
    "outputId": "98e28a2a-0c93-4392-c4c6-3e65b460d84e"
   },
   "outputs": [
    {
     "data": {
      "text/plain": [
       "(['Embarque', 'Sexo'],\n",
       " ['Idade', 'Tarifa', 'PaisFilhos', 'Classe', 'IrmaosConjuge', 'Sobreviveu'])"
      ]
     },
     "execution_count": 17,
     "metadata": {},
     "output_type": "execute_result"
    }
   ],
   "source": [
    "# Variáveis categóricas\n",
    "\n",
    "cat_vars = data.select_dtypes(include=['object']).columns.tolist()\n",
    "num_vars = data.select_dtypes(exclude=['object']).columns.tolist()\n",
    "cat_vars, num_vars"
   ]
  },
  {
   "cell_type": "code",
   "execution_count": 18,
   "metadata": {
    "colab": {
     "base_uri": "https://localhost:8080/"
    },
    "executionInfo": {
     "elapsed": 464,
     "status": "ok",
     "timestamp": 1648562939283,
     "user": {
      "displayName": "Darlan Quintanilha",
      "photoUrl": "https://lh3.googleusercontent.com/a-/AOh14Gho9QhXpBr_K3-TYqRSVJqD3Y8smoOnabH_ToSp8da6hv1U-WOBXtTPxsWhlQuU7APNa6lh8Sl4AQjvZVtLqQFXsJaJ5_YV0aIE1Z5icQqve-uOYNOW1KR-ychx9GxHOiUvjl0-9k6WLPOQSzjkdOkYXE_I6FGAMvZEwutni_GwDa-fKORyFoIC9n03EQywUq60ofcaHdUsQvGVzvSABVIxl92vLcDIqa-BZEVJHz1VnNRgfY5zyA-DPQxRSjO2rog5BPnJwqeQXZ9IURhDFzs25NIbqRbOyZh1M-Wz3x5DmNdMf05cHb5nMRYEAA84-GrNsmXmqLSJdRymgyxl3roreuqeFqm3hW6MBQUD_yc0TVmuqx7YlpvasiYm3HHnfu-jw0Yk-FIg-X6mKen1Te5HGWqXy2ay1qQ2p4_46y05OaRWX1xEAqupt8JJ_F1moxGUD9egh-yK0TlllvXhTbQG4O62_KvepHbeQys5PYehC9rkBaDd3sTWvY523KQkxh_j2-bycyZWSsUvj1aRV-RWKX4AVjAMSYsq2BtosQXyHIi20WYZ1jVXn1r4cdYSofFPM3VCuejaTe0HbQBsO1ybayn6r6vmNx30C0l5oOqMl_1B_Nuj4_JMbkP2Muiv65cY932aRR5Rs4af1dNGgb6oxYFQWcTLdZXkBU4nvM2xv6RAspdZHGvBJlP_FqM-nbitg2cJapSnvbrcML--1qv9ZNp6jFWcayDcRR1AXvsJbpQQ19HWyWJ_s7eekd7awqEqEZc=s64",
      "userId": "03354826074941061531"
     },
     "user_tz": 180
    },
    "id": "7qBE4NfwtFpI",
    "outputId": "9040a69f-a7e6-41ed-d981-e979b8728752"
   },
   "outputs": [
    {
     "name": "stdout",
     "output_type": "stream",
     "text": [
      "Embarque: ['S' 'C' 'Q']\n",
      "Sexo: ['homem' 'mulher']\n"
     ]
    }
   ],
   "source": [
    "def show_uniques(x,df):\n",
    "    print(f'{x}: {df[x].unique()}')\n",
    "\n",
    "for x in cat_vars:\n",
    "    show_uniques(x,data)"
   ]
  },
  {
   "cell_type": "code",
   "execution_count": 19,
   "metadata": {
    "colab": {
     "base_uri": "https://localhost:8080/"
    },
    "executionInfo": {
     "elapsed": 408,
     "status": "ok",
     "timestamp": 1648562950967,
     "user": {
      "displayName": "Darlan Quintanilha",
      "photoUrl": "https://lh3.googleusercontent.com/a-/AOh14Gho9QhXpBr_K3-TYqRSVJqD3Y8smoOnabH_ToSp8da6hv1U-WOBXtTPxsWhlQuU7APNa6lh8Sl4AQjvZVtLqQFXsJaJ5_YV0aIE1Z5icQqve-uOYNOW1KR-ychx9GxHOiUvjl0-9k6WLPOQSzjkdOkYXE_I6FGAMvZEwutni_GwDa-fKORyFoIC9n03EQywUq60ofcaHdUsQvGVzvSABVIxl92vLcDIqa-BZEVJHz1VnNRgfY5zyA-DPQxRSjO2rog5BPnJwqeQXZ9IURhDFzs25NIbqRbOyZh1M-Wz3x5DmNdMf05cHb5nMRYEAA84-GrNsmXmqLSJdRymgyxl3roreuqeFqm3hW6MBQUD_yc0TVmuqx7YlpvasiYm3HHnfu-jw0Yk-FIg-X6mKen1Te5HGWqXy2ay1qQ2p4_46y05OaRWX1xEAqupt8JJ_F1moxGUD9egh-yK0TlllvXhTbQG4O62_KvepHbeQys5PYehC9rkBaDd3sTWvY523KQkxh_j2-bycyZWSsUvj1aRV-RWKX4AVjAMSYsq2BtosQXyHIi20WYZ1jVXn1r4cdYSofFPM3VCuejaTe0HbQBsO1ybayn6r6vmNx30C0l5oOqMl_1B_Nuj4_JMbkP2Muiv65cY932aRR5Rs4af1dNGgb6oxYFQWcTLdZXkBU4nvM2xv6RAspdZHGvBJlP_FqM-nbitg2cJapSnvbrcML--1qv9ZNp6jFWcayDcRR1AXvsJbpQQ19HWyWJ_s7eekd7awqEqEZc=s64",
      "userId": "03354826074941061531"
     },
     "user_tz": 180
    },
    "id": "BmVt5vXRtFpI",
    "outputId": "387f2f02-7b60-4061-cb00-a211b3d84687"
   },
   "outputs": [
    {
     "data": {
      "text/plain": [
       "Index(['Idade', 'Tarifa', 'PaisFilhos', 'Classe', 'IrmaosConjuge',\n",
       "       'Sobreviveu', 'Embarque_Q', 'Embarque_S', 'Sexo_mulher'],\n",
       "      dtype='object')"
      ]
     },
     "execution_count": 19,
     "metadata": {},
     "output_type": "execute_result"
    }
   ],
   "source": [
    "data = pd.get_dummies(data, columns=['Embarque', 'Sexo'], drop_first=True)\n",
    "data.columns"
   ]
  },
  {
   "cell_type": "markdown",
   "metadata": {
    "id": "xhPM7y5ktFpJ"
   },
   "source": [
    "### Etapa 6: Divisão de treino-teste e normalização dos atributos"
   ]
  },
  {
   "cell_type": "code",
   "execution_count": 20,
   "metadata": {
    "colab": {
     "base_uri": "https://localhost:8080/"
    },
    "executionInfo": {
     "elapsed": 384,
     "status": "ok",
     "timestamp": 1648563017649,
     "user": {
      "displayName": "Darlan Quintanilha",
      "photoUrl": "https://lh3.googleusercontent.com/a-/AOh14Gho9QhXpBr_K3-TYqRSVJqD3Y8smoOnabH_ToSp8da6hv1U-WOBXtTPxsWhlQuU7APNa6lh8Sl4AQjvZVtLqQFXsJaJ5_YV0aIE1Z5icQqve-uOYNOW1KR-ychx9GxHOiUvjl0-9k6WLPOQSzjkdOkYXE_I6FGAMvZEwutni_GwDa-fKORyFoIC9n03EQywUq60ofcaHdUsQvGVzvSABVIxl92vLcDIqa-BZEVJHz1VnNRgfY5zyA-DPQxRSjO2rog5BPnJwqeQXZ9IURhDFzs25NIbqRbOyZh1M-Wz3x5DmNdMf05cHb5nMRYEAA84-GrNsmXmqLSJdRymgyxl3roreuqeFqm3hW6MBQUD_yc0TVmuqx7YlpvasiYm3HHnfu-jw0Yk-FIg-X6mKen1Te5HGWqXy2ay1qQ2p4_46y05OaRWX1xEAqupt8JJ_F1moxGUD9egh-yK0TlllvXhTbQG4O62_KvepHbeQys5PYehC9rkBaDd3sTWvY523KQkxh_j2-bycyZWSsUvj1aRV-RWKX4AVjAMSYsq2BtosQXyHIi20WYZ1jVXn1r4cdYSofFPM3VCuejaTe0HbQBsO1ybayn6r6vmNx30C0l5oOqMl_1B_Nuj4_JMbkP2Muiv65cY932aRR5Rs4af1dNGgb6oxYFQWcTLdZXkBU4nvM2xv6RAspdZHGvBJlP_FqM-nbitg2cJapSnvbrcML--1qv9ZNp6jFWcayDcRR1AXvsJbpQQ19HWyWJ_s7eekd7awqEqEZc=s64",
      "userId": "03354826074941061531"
     },
     "user_tz": 180
    },
    "id": "WDr8vYsItFpK",
    "outputId": "f9858376-41d0-4053-e792-5424849caee5"
   },
   "outputs": [
    {
     "data": {
      "text/plain": [
       "((891, 9), (418, 8))"
      ]
     },
     "execution_count": 20,
     "metadata": {},
     "output_type": "execute_result"
    }
   ],
   "source": [
    "# Separando os dados do teste (submissão)\n",
    "test = data.loc[test.index]\n",
    "test.drop('Sobreviveu', axis=1, inplace=True)\n",
    "\n",
    "\n",
    "# Separando os dados para treino e validação dos modelos\n",
    "data = data.loc[train.index]\n",
    "# data.isnull().sum()\n",
    "data.shape, test.shape"
   ]
  },
  {
   "cell_type": "code",
   "execution_count": 21,
   "metadata": {
    "colab": {
     "base_uri": "https://localhost:8080/"
    },
    "executionInfo": {
     "elapsed": 370,
     "status": "ok",
     "timestamp": 1648563033683,
     "user": {
      "displayName": "Darlan Quintanilha",
      "photoUrl": "https://lh3.googleusercontent.com/a-/AOh14Gho9QhXpBr_K3-TYqRSVJqD3Y8smoOnabH_ToSp8da6hv1U-WOBXtTPxsWhlQuU7APNa6lh8Sl4AQjvZVtLqQFXsJaJ5_YV0aIE1Z5icQqve-uOYNOW1KR-ychx9GxHOiUvjl0-9k6WLPOQSzjkdOkYXE_I6FGAMvZEwutni_GwDa-fKORyFoIC9n03EQywUq60ofcaHdUsQvGVzvSABVIxl92vLcDIqa-BZEVJHz1VnNRgfY5zyA-DPQxRSjO2rog5BPnJwqeQXZ9IURhDFzs25NIbqRbOyZh1M-Wz3x5DmNdMf05cHb5nMRYEAA84-GrNsmXmqLSJdRymgyxl3roreuqeFqm3hW6MBQUD_yc0TVmuqx7YlpvasiYm3HHnfu-jw0Yk-FIg-X6mKen1Te5HGWqXy2ay1qQ2p4_46y05OaRWX1xEAqupt8JJ_F1moxGUD9egh-yK0TlllvXhTbQG4O62_KvepHbeQys5PYehC9rkBaDd3sTWvY523KQkxh_j2-bycyZWSsUvj1aRV-RWKX4AVjAMSYsq2BtosQXyHIi20WYZ1jVXn1r4cdYSofFPM3VCuejaTe0HbQBsO1ybayn6r6vmNx30C0l5oOqMl_1B_Nuj4_JMbkP2Muiv65cY932aRR5Rs4af1dNGgb6oxYFQWcTLdZXkBU4nvM2xv6RAspdZHGvBJlP_FqM-nbitg2cJapSnvbrcML--1qv9ZNp6jFWcayDcRR1AXvsJbpQQ19HWyWJ_s7eekd7awqEqEZc=s64",
      "userId": "03354826074941061531"
     },
     "user_tz": 180
    },
    "id": "8C2iE6BWtFpK",
    "outputId": "93260965-9e06-4ba3-d3d0-b5b7c5f6ab39"
   },
   "outputs": [
    {
     "data": {
      "text/plain": [
       "((891, 8), (891,))"
      ]
     },
     "execution_count": 21,
     "metadata": {},
     "output_type": "execute_result"
    }
   ],
   "source": [
    "#Dividindo dados em variáveis X e y\n",
    "X = data.drop('Sobreviveu', axis=1)\n",
    "y = data['Sobreviveu']\n",
    "X.shape, y.shape"
   ]
  },
  {
   "cell_type": "markdown",
   "metadata": {
    "id": "IXnM3s6ztFpL"
   },
   "source": [
    "#### MODELO 1 - Houdout"
   ]
  },
  {
   "cell_type": "code",
   "execution_count": 22,
   "metadata": {
    "colab": {
     "base_uri": "https://localhost:8080/"
    },
    "executionInfo": {
     "elapsed": 554,
     "status": "ok",
     "timestamp": 1648563048255,
     "user": {
      "displayName": "Darlan Quintanilha",
      "photoUrl": "https://lh3.googleusercontent.com/a-/AOh14Gho9QhXpBr_K3-TYqRSVJqD3Y8smoOnabH_ToSp8da6hv1U-WOBXtTPxsWhlQuU7APNa6lh8Sl4AQjvZVtLqQFXsJaJ5_YV0aIE1Z5icQqve-uOYNOW1KR-ychx9GxHOiUvjl0-9k6WLPOQSzjkdOkYXE_I6FGAMvZEwutni_GwDa-fKORyFoIC9n03EQywUq60ofcaHdUsQvGVzvSABVIxl92vLcDIqa-BZEVJHz1VnNRgfY5zyA-DPQxRSjO2rog5BPnJwqeQXZ9IURhDFzs25NIbqRbOyZh1M-Wz3x5DmNdMf05cHb5nMRYEAA84-GrNsmXmqLSJdRymgyxl3roreuqeFqm3hW6MBQUD_yc0TVmuqx7YlpvasiYm3HHnfu-jw0Yk-FIg-X6mKen1Te5HGWqXy2ay1qQ2p4_46y05OaRWX1xEAqupt8JJ_F1moxGUD9egh-yK0TlllvXhTbQG4O62_KvepHbeQys5PYehC9rkBaDd3sTWvY523KQkxh_j2-bycyZWSsUvj1aRV-RWKX4AVjAMSYsq2BtosQXyHIi20WYZ1jVXn1r4cdYSofFPM3VCuejaTe0HbQBsO1ybayn6r6vmNx30C0l5oOqMl_1B_Nuj4_JMbkP2Muiv65cY932aRR5Rs4af1dNGgb6oxYFQWcTLdZXkBU4nvM2xv6RAspdZHGvBJlP_FqM-nbitg2cJapSnvbrcML--1qv9ZNp6jFWcayDcRR1AXvsJbpQQ19HWyWJ_s7eekd7awqEqEZc=s64",
      "userId": "03354826074941061531"
     },
     "user_tz": 180
    },
    "id": "ZEY8m6sotFpL",
    "outputId": "621e3e9a-c200-420b-ea32-2e3fa9a0ca3c"
   },
   "outputs": [
    {
     "data": {
      "text/plain": [
       "((623, 8), (268, 8), (623,), (268,))"
      ]
     },
     "execution_count": 22,
     "metadata": {},
     "output_type": "execute_result"
    }
   ],
   "source": [
    "from sklearn.model_selection import train_test_split\n",
    "\n",
    "np.random.seed(seed_number)\n",
    "# Divisão Holdout 70% treino / 30% teste com estratificação\n",
    "X_train, X_test, y_train, y_test = train_test_split(X, y, test_size = 0.3, stratify=y, random_state = seed_number)\n",
    "X_train.shape, X_test.shape, y_train.shape, y_test.shape"
   ]
  },
  {
   "cell_type": "code",
   "execution_count": 23,
   "metadata": {
    "colab": {
     "base_uri": "https://localhost:8080/",
     "height": 344
    },
    "executionInfo": {
     "elapsed": 400,
     "status": "ok",
     "timestamp": 1648563068864,
     "user": {
      "displayName": "Darlan Quintanilha",
      "photoUrl": "https://lh3.googleusercontent.com/a-/AOh14Gho9QhXpBr_K3-TYqRSVJqD3Y8smoOnabH_ToSp8da6hv1U-WOBXtTPxsWhlQuU7APNa6lh8Sl4AQjvZVtLqQFXsJaJ5_YV0aIE1Z5icQqve-uOYNOW1KR-ychx9GxHOiUvjl0-9k6WLPOQSzjkdOkYXE_I6FGAMvZEwutni_GwDa-fKORyFoIC9n03EQywUq60ofcaHdUsQvGVzvSABVIxl92vLcDIqa-BZEVJHz1VnNRgfY5zyA-DPQxRSjO2rog5BPnJwqeQXZ9IURhDFzs25NIbqRbOyZh1M-Wz3x5DmNdMf05cHb5nMRYEAA84-GrNsmXmqLSJdRymgyxl3roreuqeFqm3hW6MBQUD_yc0TVmuqx7YlpvasiYm3HHnfu-jw0Yk-FIg-X6mKen1Te5HGWqXy2ay1qQ2p4_46y05OaRWX1xEAqupt8JJ_F1moxGUD9egh-yK0TlllvXhTbQG4O62_KvepHbeQys5PYehC9rkBaDd3sTWvY523KQkxh_j2-bycyZWSsUvj1aRV-RWKX4AVjAMSYsq2BtosQXyHIi20WYZ1jVXn1r4cdYSofFPM3VCuejaTe0HbQBsO1ybayn6r6vmNx30C0l5oOqMl_1B_Nuj4_JMbkP2Muiv65cY932aRR5Rs4af1dNGgb6oxYFQWcTLdZXkBU4nvM2xv6RAspdZHGvBJlP_FqM-nbitg2cJapSnvbrcML--1qv9ZNp6jFWcayDcRR1AXvsJbpQQ19HWyWJ_s7eekd7awqEqEZc=s64",
      "userId": "03354826074941061531"
     },
     "user_tz": 180
    },
    "id": "JwAba0qDtFpM",
    "outputId": "9515cbe8-2c12-4031-9546-2d730e13d62d"
   },
   "outputs": [
    {
     "data": {
      "text/html": [
       "\n",
       "  <div id=\"df-9e790c73-e6e6-4c35-91a8-8971155a21ae\">\n",
       "    <div class=\"colab-df-container\">\n",
       "      <div>\n",
       "<style scoped>\n",
       "    .dataframe tbody tr th:only-of-type {\n",
       "        vertical-align: middle;\n",
       "    }\n",
       "\n",
       "    .dataframe tbody tr th {\n",
       "        vertical-align: top;\n",
       "    }\n",
       "\n",
       "    .dataframe thead th {\n",
       "        text-align: right;\n",
       "    }\n",
       "</style>\n",
       "<table border=\"1\" class=\"dataframe\">\n",
       "  <thead>\n",
       "    <tr style=\"text-align: right;\">\n",
       "      <th></th>\n",
       "      <th>Idade</th>\n",
       "      <th>Tarifa</th>\n",
       "      <th>PaisFilhos</th>\n",
       "      <th>Classe</th>\n",
       "      <th>IrmaosConjuge</th>\n",
       "      <th>Embarque_Q</th>\n",
       "      <th>Embarque_S</th>\n",
       "      <th>Sexo_mulher</th>\n",
       "    </tr>\n",
       "  </thead>\n",
       "  <tbody>\n",
       "    <tr>\n",
       "      <th>count</th>\n",
       "      <td>623.000000</td>\n",
       "      <td>623.000000</td>\n",
       "      <td>623.000000</td>\n",
       "      <td>623.000000</td>\n",
       "      <td>623.000000</td>\n",
       "      <td>623.000000</td>\n",
       "      <td>623.000000</td>\n",
       "      <td>623.000000</td>\n",
       "    </tr>\n",
       "    <tr>\n",
       "      <th>mean</th>\n",
       "      <td>0.401489</td>\n",
       "      <td>0.061747</td>\n",
       "      <td>0.073836</td>\n",
       "      <td>0.668539</td>\n",
       "      <td>0.066212</td>\n",
       "      <td>0.080257</td>\n",
       "      <td>0.714286</td>\n",
       "      <td>0.354735</td>\n",
       "    </tr>\n",
       "    <tr>\n",
       "      <th>std</th>\n",
       "      <td>0.179791</td>\n",
       "      <td>0.102539</td>\n",
       "      <td>0.158589</td>\n",
       "      <td>0.410480</td>\n",
       "      <td>0.142575</td>\n",
       "      <td>0.271909</td>\n",
       "      <td>0.452117</td>\n",
       "      <td>0.478817</td>\n",
       "    </tr>\n",
       "    <tr>\n",
       "      <th>min</th>\n",
       "      <td>0.000000</td>\n",
       "      <td>0.000000</td>\n",
       "      <td>0.000000</td>\n",
       "      <td>0.000000</td>\n",
       "      <td>0.000000</td>\n",
       "      <td>0.000000</td>\n",
       "      <td>0.000000</td>\n",
       "      <td>0.000000</td>\n",
       "    </tr>\n",
       "    <tr>\n",
       "      <th>25%</th>\n",
       "      <td>0.305752</td>\n",
       "      <td>0.015412</td>\n",
       "      <td>0.000000</td>\n",
       "      <td>0.500000</td>\n",
       "      <td>0.000000</td>\n",
       "      <td>0.000000</td>\n",
       "      <td>0.000000</td>\n",
       "      <td>0.000000</td>\n",
       "    </tr>\n",
       "    <tr>\n",
       "      <th>50%</th>\n",
       "      <td>0.390762</td>\n",
       "      <td>0.026920</td>\n",
       "      <td>0.000000</td>\n",
       "      <td>1.000000</td>\n",
       "      <td>0.000000</td>\n",
       "      <td>0.000000</td>\n",
       "      <td>1.000000</td>\n",
       "      <td>0.000000</td>\n",
       "    </tr>\n",
       "    <tr>\n",
       "      <th>75%</th>\n",
       "      <td>0.475772</td>\n",
       "      <td>0.059113</td>\n",
       "      <td>0.000000</td>\n",
       "      <td>1.000000</td>\n",
       "      <td>0.125000</td>\n",
       "      <td>0.000000</td>\n",
       "      <td>1.000000</td>\n",
       "      <td>1.000000</td>\n",
       "    </tr>\n",
       "    <tr>\n",
       "      <th>max</th>\n",
       "      <td>1.000000</td>\n",
       "      <td>1.000000</td>\n",
       "      <td>1.000000</td>\n",
       "      <td>1.000000</td>\n",
       "      <td>1.000000</td>\n",
       "      <td>1.000000</td>\n",
       "      <td>1.000000</td>\n",
       "      <td>1.000000</td>\n",
       "    </tr>\n",
       "  </tbody>\n",
       "</table>\n",
       "</div>\n",
       "      <button class=\"colab-df-convert\" onclick=\"convertToInteractive('df-9e790c73-e6e6-4c35-91a8-8971155a21ae')\"\n",
       "              title=\"Convert this dataframe to an interactive table.\"\n",
       "              style=\"display:none;\">\n",
       "        \n",
       "  <svg xmlns=\"http://www.w3.org/2000/svg\" height=\"24px\"viewBox=\"0 0 24 24\"\n",
       "       width=\"24px\">\n",
       "    <path d=\"M0 0h24v24H0V0z\" fill=\"none\"/>\n",
       "    <path d=\"M18.56 5.44l.94 2.06.94-2.06 2.06-.94-2.06-.94-.94-2.06-.94 2.06-2.06.94zm-11 1L8.5 8.5l.94-2.06 2.06-.94-2.06-.94L8.5 2.5l-.94 2.06-2.06.94zm10 10l.94 2.06.94-2.06 2.06-.94-2.06-.94-.94-2.06-.94 2.06-2.06.94z\"/><path d=\"M17.41 7.96l-1.37-1.37c-.4-.4-.92-.59-1.43-.59-.52 0-1.04.2-1.43.59L10.3 9.45l-7.72 7.72c-.78.78-.78 2.05 0 2.83L4 21.41c.39.39.9.59 1.41.59.51 0 1.02-.2 1.41-.59l7.78-7.78 2.81-2.81c.8-.78.8-2.07 0-2.86zM5.41 20L4 18.59l7.72-7.72 1.47 1.35L5.41 20z\"/>\n",
       "  </svg>\n",
       "      </button>\n",
       "      \n",
       "  <style>\n",
       "    .colab-df-container {\n",
       "      display:flex;\n",
       "      flex-wrap:wrap;\n",
       "      gap: 12px;\n",
       "    }\n",
       "\n",
       "    .colab-df-convert {\n",
       "      background-color: #E8F0FE;\n",
       "      border: none;\n",
       "      border-radius: 50%;\n",
       "      cursor: pointer;\n",
       "      display: none;\n",
       "      fill: #1967D2;\n",
       "      height: 32px;\n",
       "      padding: 0 0 0 0;\n",
       "      width: 32px;\n",
       "    }\n",
       "\n",
       "    .colab-df-convert:hover {\n",
       "      background-color: #E2EBFA;\n",
       "      box-shadow: 0px 1px 2px rgba(60, 64, 67, 0.3), 0px 1px 3px 1px rgba(60, 64, 67, 0.15);\n",
       "      fill: #174EA6;\n",
       "    }\n",
       "\n",
       "    [theme=dark] .colab-df-convert {\n",
       "      background-color: #3B4455;\n",
       "      fill: #D2E3FC;\n",
       "    }\n",
       "\n",
       "    [theme=dark] .colab-df-convert:hover {\n",
       "      background-color: #434B5C;\n",
       "      box-shadow: 0px 1px 3px 1px rgba(0, 0, 0, 0.15);\n",
       "      filter: drop-shadow(0px 1px 2px rgba(0, 0, 0, 0.3));\n",
       "      fill: #FFFFFF;\n",
       "    }\n",
       "  </style>\n",
       "\n",
       "      <script>\n",
       "        const buttonEl =\n",
       "          document.querySelector('#df-9e790c73-e6e6-4c35-91a8-8971155a21ae button.colab-df-convert');\n",
       "        buttonEl.style.display =\n",
       "          google.colab.kernel.accessAllowed ? 'block' : 'none';\n",
       "\n",
       "        async function convertToInteractive(key) {\n",
       "          const element = document.querySelector('#df-9e790c73-e6e6-4c35-91a8-8971155a21ae');\n",
       "          const dataTable =\n",
       "            await google.colab.kernel.invokeFunction('convertToInteractive',\n",
       "                                                     [key], {});\n",
       "          if (!dataTable) return;\n",
       "\n",
       "          const docLinkHtml = 'Like what you see? Visit the ' +\n",
       "            '<a target=\"_blank\" href=https://colab.research.google.com/notebooks/data_table.ipynb>data table notebook</a>'\n",
       "            + ' to learn more about interactive tables.';\n",
       "          element.innerHTML = '';\n",
       "          dataTable['output_type'] = 'display_data';\n",
       "          await google.colab.output.renderOutput(dataTable, element);\n",
       "          const docLink = document.createElement('div');\n",
       "          docLink.innerHTML = docLinkHtml;\n",
       "          element.appendChild(docLink);\n",
       "        }\n",
       "      </script>\n",
       "    </div>\n",
       "  </div>\n",
       "  "
      ],
      "text/plain": [
       "            Idade      Tarifa  PaisFilhos      Classe  IrmaosConjuge  \\\n",
       "count  623.000000  623.000000  623.000000  623.000000     623.000000   \n",
       "mean     0.401489    0.061747    0.073836    0.668539       0.066212   \n",
       "std      0.179791    0.102539    0.158589    0.410480       0.142575   \n",
       "min      0.000000    0.000000    0.000000    0.000000       0.000000   \n",
       "25%      0.305752    0.015412    0.000000    0.500000       0.000000   \n",
       "50%      0.390762    0.026920    0.000000    1.000000       0.000000   \n",
       "75%      0.475772    0.059113    0.000000    1.000000       0.125000   \n",
       "max      1.000000    1.000000    1.000000    1.000000       1.000000   \n",
       "\n",
       "       Embarque_Q  Embarque_S  Sexo_mulher  \n",
       "count  623.000000  623.000000   623.000000  \n",
       "mean     0.080257    0.714286     0.354735  \n",
       "std      0.271909    0.452117     0.478817  \n",
       "min      0.000000    0.000000     0.000000  \n",
       "25%      0.000000    0.000000     0.000000  \n",
       "50%      0.000000    1.000000     0.000000  \n",
       "75%      0.000000    1.000000     1.000000  \n",
       "max      1.000000    1.000000     1.000000  "
      ]
     },
     "execution_count": 23,
     "metadata": {},
     "output_type": "execute_result"
    }
   ],
   "source": [
    "from sklearn.preprocessing import MinMaxScaler\n",
    "\n",
    "features_list = X_train.columns.to_list()\n",
    "\n",
    "scaler = MinMaxScaler()\n",
    "\n",
    "X_train[features_list] = scaler.fit_transform(X_train[features_list])\n",
    "X_test[features_list] = scaler.transform(X_test[features_list])\n",
    "X_train.describe()"
   ]
  },
  {
   "cell_type": "code",
   "execution_count": 24,
   "metadata": {
    "executionInfo": {
     "elapsed": 453,
     "status": "ok",
     "timestamp": 1648563093487,
     "user": {
      "displayName": "Darlan Quintanilha",
      "photoUrl": "https://lh3.googleusercontent.com/a-/AOh14Gho9QhXpBr_K3-TYqRSVJqD3Y8smoOnabH_ToSp8da6hv1U-WOBXtTPxsWhlQuU7APNa6lh8Sl4AQjvZVtLqQFXsJaJ5_YV0aIE1Z5icQqve-uOYNOW1KR-ychx9GxHOiUvjl0-9k6WLPOQSzjkdOkYXE_I6FGAMvZEwutni_GwDa-fKORyFoIC9n03EQywUq60ofcaHdUsQvGVzvSABVIxl92vLcDIqa-BZEVJHz1VnNRgfY5zyA-DPQxRSjO2rog5BPnJwqeQXZ9IURhDFzs25NIbqRbOyZh1M-Wz3x5DmNdMf05cHb5nMRYEAA84-GrNsmXmqLSJdRymgyxl3roreuqeFqm3hW6MBQUD_yc0TVmuqx7YlpvasiYm3HHnfu-jw0Yk-FIg-X6mKen1Te5HGWqXy2ay1qQ2p4_46y05OaRWX1xEAqupt8JJ_F1moxGUD9egh-yK0TlllvXhTbQG4O62_KvepHbeQys5PYehC9rkBaDd3sTWvY523KQkxh_j2-bycyZWSsUvj1aRV-RWKX4AVjAMSYsq2BtosQXyHIi20WYZ1jVXn1r4cdYSofFPM3VCuejaTe0HbQBsO1ybayn6r6vmNx30C0l5oOqMl_1B_Nuj4_JMbkP2Muiv65cY932aRR5Rs4af1dNGgb6oxYFQWcTLdZXkBU4nvM2xv6RAspdZHGvBJlP_FqM-nbitg2cJapSnvbrcML--1qv9ZNp6jFWcayDcRR1AXvsJbpQQ19HWyWJ_s7eekd7awqEqEZc=s64",
      "userId": "03354826074941061531"
     },
     "user_tz": 180
    },
    "id": "EqXnr7-itFpN"
   },
   "outputs": [],
   "source": [
    "import xgboost as xgb\n",
    "\n",
    "model = xgb.XGBClassifier()\n",
    "\n",
    "#treinar modelo\n",
    "model.fit(X_train, y_train)\n",
    "# gerar predicao\n",
    "y_pred = model.predict(X_test)\n"
   ]
  },
  {
   "cell_type": "code",
   "execution_count": 25,
   "metadata": {
    "colab": {
     "base_uri": "https://localhost:8080/"
    },
    "executionInfo": {
     "elapsed": 395,
     "status": "ok",
     "timestamp": 1648563125987,
     "user": {
      "displayName": "Darlan Quintanilha",
      "photoUrl": "https://lh3.googleusercontent.com/a-/AOh14Gho9QhXpBr_K3-TYqRSVJqD3Y8smoOnabH_ToSp8da6hv1U-WOBXtTPxsWhlQuU7APNa6lh8Sl4AQjvZVtLqQFXsJaJ5_YV0aIE1Z5icQqve-uOYNOW1KR-ychx9GxHOiUvjl0-9k6WLPOQSzjkdOkYXE_I6FGAMvZEwutni_GwDa-fKORyFoIC9n03EQywUq60ofcaHdUsQvGVzvSABVIxl92vLcDIqa-BZEVJHz1VnNRgfY5zyA-DPQxRSjO2rog5BPnJwqeQXZ9IURhDFzs25NIbqRbOyZh1M-Wz3x5DmNdMf05cHb5nMRYEAA84-GrNsmXmqLSJdRymgyxl3roreuqeFqm3hW6MBQUD_yc0TVmuqx7YlpvasiYm3HHnfu-jw0Yk-FIg-X6mKen1Te5HGWqXy2ay1qQ2p4_46y05OaRWX1xEAqupt8JJ_F1moxGUD9egh-yK0TlllvXhTbQG4O62_KvepHbeQys5PYehC9rkBaDd3sTWvY523KQkxh_j2-bycyZWSsUvj1aRV-RWKX4AVjAMSYsq2BtosQXyHIi20WYZ1jVXn1r4cdYSofFPM3VCuejaTe0HbQBsO1ybayn6r6vmNx30C0l5oOqMl_1B_Nuj4_JMbkP2Muiv65cY932aRR5Rs4af1dNGgb6oxYFQWcTLdZXkBU4nvM2xv6RAspdZHGvBJlP_FqM-nbitg2cJapSnvbrcML--1qv9ZNp6jFWcayDcRR1AXvsJbpQQ19HWyWJ_s7eekd7awqEqEZc=s64",
      "userId": "03354826074941061531"
     },
     "user_tz": 180
    },
    "id": "YLoYocPBtFpO",
    "outputId": "ceea0cb9-9c59-4349-d939-e54c80548ded"
   },
   "outputs": [
    {
     "name": "stdout",
     "output_type": "stream",
     "text": [
      "            Metrics\n",
      "recall     0.640777\n",
      "accuracy   0.813433\n",
      "precision  0.835443\n",
      "F1         0.725275\n",
      "roc_auc    0.844601\n"
     ]
    }
   ],
   "source": [
    "from sklearn.metrics import (recall_score, accuracy_score, precision_score, f1_score, roc_auc_score)\n",
    "\n",
    "def show_metrics(model, X_test, y_test,y_pred):\n",
    "    metrics = {\n",
    "        'recall': recall_score(y_test,y_pred),\n",
    "        'accuracy': accuracy_score(y_test,y_pred),\n",
    "        'precision': precision_score(y_test,y_pred),\n",
    "        'F1': f1_score(y_test,y_pred),\n",
    "        'roc_auc': roc_auc_score(y_test, model.predict_proba(X_test)[:, 1])\n",
    "    }\n",
    "    print(pd.DataFrame.from_dict(metrics, orient='index',columns=['Metrics']))\n",
    "\n",
    "show_metrics(model, X_test, y_test, y_pred)\n"
   ]
  },
  {
   "cell_type": "markdown",
   "metadata": {
    "id": "loXIV0vQtFpP"
   },
   "source": [
    "#### MODELO 2 - Validação Cruzada _(Cross-Validation)_"
   ]
  },
  {
   "cell_type": "code",
   "execution_count": 30,
   "metadata": {
    "executionInfo": {
     "elapsed": 447,
     "status": "ok",
     "timestamp": 1648563336329,
     "user": {
      "displayName": "Darlan Quintanilha",
      "photoUrl": "https://lh3.googleusercontent.com/a-/AOh14Gho9QhXpBr_K3-TYqRSVJqD3Y8smoOnabH_ToSp8da6hv1U-WOBXtTPxsWhlQuU7APNa6lh8Sl4AQjvZVtLqQFXsJaJ5_YV0aIE1Z5icQqve-uOYNOW1KR-ychx9GxHOiUvjl0-9k6WLPOQSzjkdOkYXE_I6FGAMvZEwutni_GwDa-fKORyFoIC9n03EQywUq60ofcaHdUsQvGVzvSABVIxl92vLcDIqa-BZEVJHz1VnNRgfY5zyA-DPQxRSjO2rog5BPnJwqeQXZ9IURhDFzs25NIbqRbOyZh1M-Wz3x5DmNdMf05cHb5nMRYEAA84-GrNsmXmqLSJdRymgyxl3roreuqeFqm3hW6MBQUD_yc0TVmuqx7YlpvasiYm3HHnfu-jw0Yk-FIg-X6mKen1Te5HGWqXy2ay1qQ2p4_46y05OaRWX1xEAqupt8JJ_F1moxGUD9egh-yK0TlllvXhTbQG4O62_KvepHbeQys5PYehC9rkBaDd3sTWvY523KQkxh_j2-bycyZWSsUvj1aRV-RWKX4AVjAMSYsq2BtosQXyHIi20WYZ1jVXn1r4cdYSofFPM3VCuejaTe0HbQBsO1ybayn6r6vmNx30C0l5oOqMl_1B_Nuj4_JMbkP2Muiv65cY932aRR5Rs4af1dNGgb6oxYFQWcTLdZXkBU4nvM2xv6RAspdZHGvBJlP_FqM-nbitg2cJapSnvbrcML--1qv9ZNp6jFWcayDcRR1AXvsJbpQQ19HWyWJ_s7eekd7awqEqEZc=s64",
      "userId": "03354826074941061531"
     },
     "user_tz": 180
    },
    "id": "iCJrawGHtFpP"
   },
   "outputs": [],
   "source": [
    "from sklearn.model_selection import StratifiedKFold\n",
    "from sklearn.model_selection import cross_val_score, cross_validate, cross_val_predict\n",
    "\n",
    "folds = 3\n",
    "\n",
    "kfold = StratifiedKFold(n_splits=folds, shuffle = True, random_state=seed_number)\n",
    "\n",
    "model = xgb.XGBClassifier(objective=\"binary:logistic\")"
   ]
  },
  {
   "cell_type": "code",
   "execution_count": 31,
   "metadata": {
    "colab": {
     "base_uri": "https://localhost:8080/"
    },
    "executionInfo": {
     "elapsed": 2,
     "status": "ok",
     "timestamp": 1648563336779,
     "user": {
      "displayName": "Darlan Quintanilha",
      "photoUrl": "https://lh3.googleusercontent.com/a-/AOh14Gho9QhXpBr_K3-TYqRSVJqD3Y8smoOnabH_ToSp8da6hv1U-WOBXtTPxsWhlQuU7APNa6lh8Sl4AQjvZVtLqQFXsJaJ5_YV0aIE1Z5icQqve-uOYNOW1KR-ychx9GxHOiUvjl0-9k6WLPOQSzjkdOkYXE_I6FGAMvZEwutni_GwDa-fKORyFoIC9n03EQywUq60ofcaHdUsQvGVzvSABVIxl92vLcDIqa-BZEVJHz1VnNRgfY5zyA-DPQxRSjO2rog5BPnJwqeQXZ9IURhDFzs25NIbqRbOyZh1M-Wz3x5DmNdMf05cHb5nMRYEAA84-GrNsmXmqLSJdRymgyxl3roreuqeFqm3hW6MBQUD_yc0TVmuqx7YlpvasiYm3HHnfu-jw0Yk-FIg-X6mKen1Te5HGWqXy2ay1qQ2p4_46y05OaRWX1xEAqupt8JJ_F1moxGUD9egh-yK0TlllvXhTbQG4O62_KvepHbeQys5PYehC9rkBaDd3sTWvY523KQkxh_j2-bycyZWSsUvj1aRV-RWKX4AVjAMSYsq2BtosQXyHIi20WYZ1jVXn1r4cdYSofFPM3VCuejaTe0HbQBsO1ybayn6r6vmNx30C0l5oOqMl_1B_Nuj4_JMbkP2Muiv65cY932aRR5Rs4af1dNGgb6oxYFQWcTLdZXkBU4nvM2xv6RAspdZHGvBJlP_FqM-nbitg2cJapSnvbrcML--1qv9ZNp6jFWcayDcRR1AXvsJbpQQ19HWyWJ_s7eekd7awqEqEZc=s64",
      "userId": "03354826074941061531"
     },
     "user_tz": 180
    },
    "id": "LVwFAj_ctFpQ",
    "outputId": "c77fa736-f9ef-40e7-9215-2e4414697818"
   },
   "outputs": [
    {
     "data": {
      "text/plain": [
       "{'fit_time': array([0.03600001, 0.03480697, 0.03404236]),\n",
       " 'score_time': array([0.00886893, 0.00854707, 0.00857902]),\n",
       " 'test_accuracy': array([0.78787879, 0.81481481, 0.82828283]),\n",
       " 'test_f1_macro': array([0.77216438, 0.79113657, 0.81691707]),\n",
       " 'test_precision': array([0.74285714, 0.85542169, 0.78899083]),\n",
       " 'test_recall': array([0.68421053, 0.62280702, 0.75438596]),\n",
       " 'test_roc_auc': array([0.84529288, 0.86463426, 0.87798389])}"
      ]
     },
     "execution_count": 31,
     "metadata": {},
     "output_type": "execute_result"
    }
   ],
   "source": [
    "X[X.columns] = scaler.fit_transform(X[X.columns])\n",
    "\n",
    "# cv_result = cross_val_score(model, X, y, cv=kfold, scoring='roc_auc', verbose=0)\n",
    "cv_result = cross_validate(model, X, y, cv=kfold, scoring=['recall','accuracy', 'precision', 'f1_macro', 'roc_auc'], verbose=0)\n",
    "cv_result\n",
    "\n"
   ]
  },
  {
   "cell_type": "code",
   "execution_count": 32,
   "metadata": {
    "colab": {
     "base_uri": "https://localhost:8080/"
    },
    "executionInfo": {
     "elapsed": 391,
     "status": "ok",
     "timestamp": 1648563390474,
     "user": {
      "displayName": "Darlan Quintanilha",
      "photoUrl": "https://lh3.googleusercontent.com/a-/AOh14Gho9QhXpBr_K3-TYqRSVJqD3Y8smoOnabH_ToSp8da6hv1U-WOBXtTPxsWhlQuU7APNa6lh8Sl4AQjvZVtLqQFXsJaJ5_YV0aIE1Z5icQqve-uOYNOW1KR-ychx9GxHOiUvjl0-9k6WLPOQSzjkdOkYXE_I6FGAMvZEwutni_GwDa-fKORyFoIC9n03EQywUq60ofcaHdUsQvGVzvSABVIxl92vLcDIqa-BZEVJHz1VnNRgfY5zyA-DPQxRSjO2rog5BPnJwqeQXZ9IURhDFzs25NIbqRbOyZh1M-Wz3x5DmNdMf05cHb5nMRYEAA84-GrNsmXmqLSJdRymgyxl3roreuqeFqm3hW6MBQUD_yc0TVmuqx7YlpvasiYm3HHnfu-jw0Yk-FIg-X6mKen1Te5HGWqXy2ay1qQ2p4_46y05OaRWX1xEAqupt8JJ_F1moxGUD9egh-yK0TlllvXhTbQG4O62_KvepHbeQys5PYehC9rkBaDd3sTWvY523KQkxh_j2-bycyZWSsUvj1aRV-RWKX4AVjAMSYsq2BtosQXyHIi20WYZ1jVXn1r4cdYSofFPM3VCuejaTe0HbQBsO1ybayn6r6vmNx30C0l5oOqMl_1B_Nuj4_JMbkP2Muiv65cY932aRR5Rs4af1dNGgb6oxYFQWcTLdZXkBU4nvM2xv6RAspdZHGvBJlP_FqM-nbitg2cJapSnvbrcML--1qv9ZNp6jFWcayDcRR1AXvsJbpQQ19HWyWJ_s7eekd7awqEqEZc=s64",
      "userId": "03354826074941061531"
     },
     "user_tz": 180
    },
    "id": "obhKAKbktFpQ",
    "outputId": "a0ecccf5-62ad-47c8-b2f5-b2685c8df445"
   },
   "outputs": [
    {
     "name": "stdout",
     "output_type": "stream",
     "text": [
      "test_recall: 0.6871 +/- 0.0538\n",
      "test_accuracy: 0.8103 +/- 0.0168\n",
      "test_precision: 0.7958 +/- 0.0462\n",
      "test_f1_macro: 0.7934 +/- 0.0183\n",
      "test_roc_auc: 0.8626 +/- 0.0134\n"
     ]
    }
   ],
   "source": [
    "def show_cv_metrics(str, cv_result):\n",
    "    print('{}: {:.4f} +/- {:.4f}'.format(str, cv_result[str].mean(), cv_result[str].std()))\n",
    "\n",
    "show_cv_metrics('test_recall', cv_result)\n",
    "show_cv_metrics('test_accuracy', cv_result)\n",
    "show_cv_metrics('test_precision', cv_result)\n",
    "show_cv_metrics('test_f1_macro', cv_result)\n",
    "show_cv_metrics('test_roc_auc', cv_result)"
   ]
  },
  {
   "cell_type": "markdown",
   "metadata": {
    "id": "Yik_v0qytFpR"
   },
   "source": [
    "#### MODELO 3 - Ajuste de hiperparâmetros _(GridSearchCV)_ + Validação Cruzada"
   ]
  },
  {
   "cell_type": "markdown",
   "metadata": {
    "id": "bV_72WgFtFpR"
   },
   "source": [
    "Até agora, usamos apenas os hiperparâmetros padrões do Classificador XGBoost. O ajuste dos parâmetros pode resultar em um aumento significativo no desempenho. Vamos dar uma olhada na visão geral dos hiperparâmetros ajustados com mais frequência:\n",
    "\n",
    "1. **max_depth**: quão profundos podem ir os nós de decisão da árvore. Deve ser um número inteiro positivo.\n",
    "- valores típicos: 1–10\n",
    "\n",
    "2. **learning_rate**: também chamado de eta , especifica a rapidez com que o modelo ajusta os erros residuais usando aprendizes de base adicionais.\n",
    "- valores típicos: 0.01–0.2\n",
    "\n",
    "3. **gamma, reg_alpha, reg_lambda**: estes 3 parâmetros especificam os valores para 3 tipos de regularização feita pelo XGBoost. \n",
    "- valores típicos: gamma: 0 - 0.5; reg_alpha e reg_lambda: 0 - 1\n",
    "\n",
    "4. **scale_pos_weight**: equilíbrio entre classes positivas e negativas. Recomendado sum(negativas) / sum(positivas).\n",
    "- valores típico: 1.0\n",
    "\n",
    "5. **subsample**: fração do conjunto de treinamento que pode ser usada para treinar cada árvore. Se este valor for baixo, pode levar ao underfitting ou se for muito alto, pode levar ao overfitting.\n",
    "- valores típicos: 0.5–0.9\n",
    "\n",
    "6. **colsample_bytree**: fração dos atributos que podem ser usados ​​para treinar cada árvore. Um grande valor significa que quase todos os atributos podem ser usados ​​para construir a árvore de decisão.\n",
    "- valores típicos: 0.5–0.9\n",
    "\n"
   ]
  },
  {
   "cell_type": "code",
   "execution_count": 33,
   "metadata": {
    "executionInfo": {
     "elapsed": 449,
     "status": "ok",
     "timestamp": 1648563815288,
     "user": {
      "displayName": "Darlan Quintanilha",
      "photoUrl": "https://lh3.googleusercontent.com/a-/AOh14Gho9QhXpBr_K3-TYqRSVJqD3Y8smoOnabH_ToSp8da6hv1U-WOBXtTPxsWhlQuU7APNa6lh8Sl4AQjvZVtLqQFXsJaJ5_YV0aIE1Z5icQqve-uOYNOW1KR-ychx9GxHOiUvjl0-9k6WLPOQSzjkdOkYXE_I6FGAMvZEwutni_GwDa-fKORyFoIC9n03EQywUq60ofcaHdUsQvGVzvSABVIxl92vLcDIqa-BZEVJHz1VnNRgfY5zyA-DPQxRSjO2rog5BPnJwqeQXZ9IURhDFzs25NIbqRbOyZh1M-Wz3x5DmNdMf05cHb5nMRYEAA84-GrNsmXmqLSJdRymgyxl3roreuqeFqm3hW6MBQUD_yc0TVmuqx7YlpvasiYm3HHnfu-jw0Yk-FIg-X6mKen1Te5HGWqXy2ay1qQ2p4_46y05OaRWX1xEAqupt8JJ_F1moxGUD9egh-yK0TlllvXhTbQG4O62_KvepHbeQys5PYehC9rkBaDd3sTWvY523KQkxh_j2-bycyZWSsUvj1aRV-RWKX4AVjAMSYsq2BtosQXyHIi20WYZ1jVXn1r4cdYSofFPM3VCuejaTe0HbQBsO1ybayn6r6vmNx30C0l5oOqMl_1B_Nuj4_JMbkP2Muiv65cY932aRR5Rs4af1dNGgb6oxYFQWcTLdZXkBU4nvM2xv6RAspdZHGvBJlP_FqM-nbitg2cJapSnvbrcML--1qv9ZNp6jFWcayDcRR1AXvsJbpQQ19HWyWJ_s7eekd7awqEqEZc=s64",
      "userId": "03354826074941061531"
     },
     "user_tz": 180
    },
    "id": "JOyDLwpktFpS"
   },
   "outputs": [],
   "source": [
    "# Grade de parâmetros para serem ajustados\n",
    "\n",
    "# param_grid = {\n",
    "#     \"max_depth\": [3, 4, 5, 7],\n",
    "#     \"learning_rate\": [0.1, 0.01, 0.05],\n",
    "#     \"gamma\": [0, 0.25, 1, 1.5, 2, 5], \n",
    "#     \"reg_lambda\": [0, 1, 10], \n",
    "#     \"scale_pos_weight\": [1, 2, 3], \n",
    "#     \"subsample\": [0.6, 0.8, 1.0], \n",
    "#     \"colsample_bytree\": [0.5, 0.6, 0.8, 1.0]\n",
    "# }\n",
    "\n",
    "from scipy.stats import uniform\n",
    "from scipy.stats import randint\n",
    "\n",
    "param_grid = {\n",
    "    \"max_depth\":randint(3,7), \n",
    "    \"learning_rate\": uniform(0.01,0.05),\n",
    "    \"gamma\": uniform(0, 5),\n",
    "    \"reg_lambda\": uniform(0, 10),\n",
    "    \"scale_pos_weight\": uniform(1, 5), \n",
    "    \"subsample\": uniform(0.6, 1.0),\n",
    "    \"colsample_bytree\": uniform(0.5, 1.0) \n",
    "}"
   ]
  },
  {
   "cell_type": "code",
   "execution_count": 34,
   "metadata": {
    "executionInfo": {
     "elapsed": 19258,
     "status": "ok",
     "timestamp": 1648563901216,
     "user": {
      "displayName": "Darlan Quintanilha",
      "photoUrl": "https://lh3.googleusercontent.com/a-/AOh14Gho9QhXpBr_K3-TYqRSVJqD3Y8smoOnabH_ToSp8da6hv1U-WOBXtTPxsWhlQuU7APNa6lh8Sl4AQjvZVtLqQFXsJaJ5_YV0aIE1Z5icQqve-uOYNOW1KR-ychx9GxHOiUvjl0-9k6WLPOQSzjkdOkYXE_I6FGAMvZEwutni_GwDa-fKORyFoIC9n03EQywUq60ofcaHdUsQvGVzvSABVIxl92vLcDIqa-BZEVJHz1VnNRgfY5zyA-DPQxRSjO2rog5BPnJwqeQXZ9IURhDFzs25NIbqRbOyZh1M-Wz3x5DmNdMf05cHb5nMRYEAA84-GrNsmXmqLSJdRymgyxl3roreuqeFqm3hW6MBQUD_yc0TVmuqx7YlpvasiYm3HHnfu-jw0Yk-FIg-X6mKen1Te5HGWqXy2ay1qQ2p4_46y05OaRWX1xEAqupt8JJ_F1moxGUD9egh-yK0TlllvXhTbQG4O62_KvepHbeQys5PYehC9rkBaDd3sTWvY523KQkxh_j2-bycyZWSsUvj1aRV-RWKX4AVjAMSYsq2BtosQXyHIi20WYZ1jVXn1r4cdYSofFPM3VCuejaTe0HbQBsO1ybayn6r6vmNx30C0l5oOqMl_1B_Nuj4_JMbkP2Muiv65cY932aRR5Rs4af1dNGgb6oxYFQWcTLdZXkBU4nvM2xv6RAspdZHGvBJlP_FqM-nbitg2cJapSnvbrcML--1qv9ZNp6jFWcayDcRR1AXvsJbpQQ19HWyWJ_s7eekd7awqEqEZc=s64",
      "userId": "03354826074941061531"
     },
     "user_tz": 180
    },
    "id": "6Prq_iF1tFpS"
   },
   "outputs": [],
   "source": [
    "from sklearn.model_selection import GridSearchCV, RandomizedSearchCV\n",
    "\n",
    "# Inicia o classificador\n",
    "model = xgb.XGBClassifier(objective=\"binary:logistic\")\n",
    "\n",
    "# Inicia Grid Search\n",
    "# grid_cv = GridSearchCV(model, param_grid, cv=folds, scoring=\"roc_auc\", n_jobs=-1)\n",
    "grid_cv = RandomizedSearchCV(model, param_grid, n_iter=500, cv=folds, scoring=\"roc_auc\", n_jobs=-1, random_state=seed_number)\n",
    "\n",
    "# Treinamento\n",
    "_ = grid_cv.fit(X, y)"
   ]
  },
  {
   "cell_type": "code",
   "execution_count": 35,
   "metadata": {
    "colab": {
     "base_uri": "https://localhost:8080/"
    },
    "executionInfo": {
     "elapsed": 500,
     "status": "ok",
     "timestamp": 1648563906156,
     "user": {
      "displayName": "Darlan Quintanilha",
      "photoUrl": "https://lh3.googleusercontent.com/a-/AOh14Gho9QhXpBr_K3-TYqRSVJqD3Y8smoOnabH_ToSp8da6hv1U-WOBXtTPxsWhlQuU7APNa6lh8Sl4AQjvZVtLqQFXsJaJ5_YV0aIE1Z5icQqve-uOYNOW1KR-ychx9GxHOiUvjl0-9k6WLPOQSzjkdOkYXE_I6FGAMvZEwutni_GwDa-fKORyFoIC9n03EQywUq60ofcaHdUsQvGVzvSABVIxl92vLcDIqa-BZEVJHz1VnNRgfY5zyA-DPQxRSjO2rog5BPnJwqeQXZ9IURhDFzs25NIbqRbOyZh1M-Wz3x5DmNdMf05cHb5nMRYEAA84-GrNsmXmqLSJdRymgyxl3roreuqeFqm3hW6MBQUD_yc0TVmuqx7YlpvasiYm3HHnfu-jw0Yk-FIg-X6mKen1Te5HGWqXy2ay1qQ2p4_46y05OaRWX1xEAqupt8JJ_F1moxGUD9egh-yK0TlllvXhTbQG4O62_KvepHbeQys5PYehC9rkBaDd3sTWvY523KQkxh_j2-bycyZWSsUvj1aRV-RWKX4AVjAMSYsq2BtosQXyHIi20WYZ1jVXn1r4cdYSofFPM3VCuejaTe0HbQBsO1ybayn6r6vmNx30C0l5oOqMl_1B_Nuj4_JMbkP2Muiv65cY932aRR5Rs4af1dNGgb6oxYFQWcTLdZXkBU4nvM2xv6RAspdZHGvBJlP_FqM-nbitg2cJapSnvbrcML--1qv9ZNp6jFWcayDcRR1AXvsJbpQQ19HWyWJ_s7eekd7awqEqEZc=s64",
      "userId": "03354826074941061531"
     },
     "user_tz": 180
    },
    "id": "XiwMN36ytFpT",
    "outputId": "597f9d7e-e049-4b7f-8c1b-0151cb2bbc26"
   },
   "outputs": [
    {
     "data": {
      "text/plain": [
       "0.8657127792157989"
      ]
     },
     "execution_count": 35,
     "metadata": {},
     "output_type": "execute_result"
    }
   ],
   "source": [
    "grid_cv.best_score_"
   ]
  },
  {
   "cell_type": "code",
   "execution_count": 36,
   "metadata": {
    "colab": {
     "base_uri": "https://localhost:8080/"
    },
    "executionInfo": {
     "elapsed": 417,
     "status": "ok",
     "timestamp": 1648563930531,
     "user": {
      "displayName": "Darlan Quintanilha",
      "photoUrl": "https://lh3.googleusercontent.com/a-/AOh14Gho9QhXpBr_K3-TYqRSVJqD3Y8smoOnabH_ToSp8da6hv1U-WOBXtTPxsWhlQuU7APNa6lh8Sl4AQjvZVtLqQFXsJaJ5_YV0aIE1Z5icQqve-uOYNOW1KR-ychx9GxHOiUvjl0-9k6WLPOQSzjkdOkYXE_I6FGAMvZEwutni_GwDa-fKORyFoIC9n03EQywUq60ofcaHdUsQvGVzvSABVIxl92vLcDIqa-BZEVJHz1VnNRgfY5zyA-DPQxRSjO2rog5BPnJwqeQXZ9IURhDFzs25NIbqRbOyZh1M-Wz3x5DmNdMf05cHb5nMRYEAA84-GrNsmXmqLSJdRymgyxl3roreuqeFqm3hW6MBQUD_yc0TVmuqx7YlpvasiYm3HHnfu-jw0Yk-FIg-X6mKen1Te5HGWqXy2ay1qQ2p4_46y05OaRWX1xEAqupt8JJ_F1moxGUD9egh-yK0TlllvXhTbQG4O62_KvepHbeQys5PYehC9rkBaDd3sTWvY523KQkxh_j2-bycyZWSsUvj1aRV-RWKX4AVjAMSYsq2BtosQXyHIi20WYZ1jVXn1r4cdYSofFPM3VCuejaTe0HbQBsO1ybayn6r6vmNx30C0l5oOqMl_1B_Nuj4_JMbkP2Muiv65cY932aRR5Rs4af1dNGgb6oxYFQWcTLdZXkBU4nvM2xv6RAspdZHGvBJlP_FqM-nbitg2cJapSnvbrcML--1qv9ZNp6jFWcayDcRR1AXvsJbpQQ19HWyWJ_s7eekd7awqEqEZc=s64",
      "userId": "03354826074941061531"
     },
     "user_tz": 180
    },
    "id": "qLPupn3DtFpU",
    "outputId": "cda59302-de88-47f5-a620-8e3cf3ee180f"
   },
   "outputs": [
    {
     "data": {
      "text/plain": [
       "{'colsample_bytree': 0.700904395603972,\n",
       " 'gamma': 2.9359159951037226,\n",
       " 'learning_rate': 0.021028550855054638,\n",
       " 'max_depth': 5,\n",
       " 'reg_lambda': 1.4818921619256187,\n",
       " 'scale_pos_weight': 2.494902675820597,\n",
       " 'subsample': 0.8371686363212292}"
      ]
     },
     "execution_count": 36,
     "metadata": {},
     "output_type": "execute_result"
    }
   ],
   "source": [
    "grid_cv.best_params_"
   ]
  },
  {
   "cell_type": "markdown",
   "metadata": {
    "id": "79cmHaleIU1N"
   },
   "source": []
  },
  {
   "cell_type": "markdown",
   "metadata": {
    "id": "x7bisXymtFpU"
   },
   "source": [
    "### Etapa 7: Modelo final e submissão"
   ]
  },
  {
   "cell_type": "code",
   "execution_count": 37,
   "metadata": {
    "colab": {
     "base_uri": "https://localhost:8080/",
     "height": 237
    },
    "executionInfo": {
     "elapsed": 393,
     "status": "ok",
     "timestamp": 1648563979570,
     "user": {
      "displayName": "Darlan Quintanilha",
      "photoUrl": "https://lh3.googleusercontent.com/a-/AOh14Gho9QhXpBr_K3-TYqRSVJqD3Y8smoOnabH_ToSp8da6hv1U-WOBXtTPxsWhlQuU7APNa6lh8Sl4AQjvZVtLqQFXsJaJ5_YV0aIE1Z5icQqve-uOYNOW1KR-ychx9GxHOiUvjl0-9k6WLPOQSzjkdOkYXE_I6FGAMvZEwutni_GwDa-fKORyFoIC9n03EQywUq60ofcaHdUsQvGVzvSABVIxl92vLcDIqa-BZEVJHz1VnNRgfY5zyA-DPQxRSjO2rog5BPnJwqeQXZ9IURhDFzs25NIbqRbOyZh1M-Wz3x5DmNdMf05cHb5nMRYEAA84-GrNsmXmqLSJdRymgyxl3roreuqeFqm3hW6MBQUD_yc0TVmuqx7YlpvasiYm3HHnfu-jw0Yk-FIg-X6mKen1Te5HGWqXy2ay1qQ2p4_46y05OaRWX1xEAqupt8JJ_F1moxGUD9egh-yK0TlllvXhTbQG4O62_KvepHbeQys5PYehC9rkBaDd3sTWvY523KQkxh_j2-bycyZWSsUvj1aRV-RWKX4AVjAMSYsq2BtosQXyHIi20WYZ1jVXn1r4cdYSofFPM3VCuejaTe0HbQBsO1ybayn6r6vmNx30C0l5oOqMl_1B_Nuj4_JMbkP2Muiv65cY932aRR5Rs4af1dNGgb6oxYFQWcTLdZXkBU4nvM2xv6RAspdZHGvBJlP_FqM-nbitg2cJapSnvbrcML--1qv9ZNp6jFWcayDcRR1AXvsJbpQQ19HWyWJ_s7eekd7awqEqEZc=s64",
      "userId": "03354826074941061531"
     },
     "user_tz": 180
    },
    "id": "5fVnYTuqtFpU",
    "outputId": "d9193e04-0fb9-4347-b230-27ee55b768cb"
   },
   "outputs": [
    {
     "data": {
      "text/html": [
       "\n",
       "  <div id=\"df-3d1b005e-0412-4aa5-b0e9-b79b0acb0f9a\">\n",
       "    <div class=\"colab-df-container\">\n",
       "      <div>\n",
       "<style scoped>\n",
       "    .dataframe tbody tr th:only-of-type {\n",
       "        vertical-align: middle;\n",
       "    }\n",
       "\n",
       "    .dataframe tbody tr th {\n",
       "        vertical-align: top;\n",
       "    }\n",
       "\n",
       "    .dataframe thead th {\n",
       "        text-align: right;\n",
       "    }\n",
       "</style>\n",
       "<table border=\"1\" class=\"dataframe\">\n",
       "  <thead>\n",
       "    <tr style=\"text-align: right;\">\n",
       "      <th></th>\n",
       "      <th>Idade</th>\n",
       "      <th>Tarifa</th>\n",
       "      <th>PaisFilhos</th>\n",
       "      <th>Classe</th>\n",
       "      <th>IrmaosConjuge</th>\n",
       "      <th>Embarque_Q</th>\n",
       "      <th>Embarque_S</th>\n",
       "      <th>Sexo_mulher</th>\n",
       "    </tr>\n",
       "    <tr>\n",
       "      <th>PassengerId</th>\n",
       "      <th></th>\n",
       "      <th></th>\n",
       "      <th></th>\n",
       "      <th></th>\n",
       "      <th></th>\n",
       "      <th></th>\n",
       "      <th></th>\n",
       "      <th></th>\n",
       "    </tr>\n",
       "  </thead>\n",
       "  <tbody>\n",
       "    <tr>\n",
       "      <th>892</th>\n",
       "      <td>34.5</td>\n",
       "      <td>7.8292</td>\n",
       "      <td>0</td>\n",
       "      <td>3</td>\n",
       "      <td>0</td>\n",
       "      <td>1</td>\n",
       "      <td>0</td>\n",
       "      <td>0</td>\n",
       "    </tr>\n",
       "    <tr>\n",
       "      <th>893</th>\n",
       "      <td>47.0</td>\n",
       "      <td>7.0000</td>\n",
       "      <td>0</td>\n",
       "      <td>3</td>\n",
       "      <td>1</td>\n",
       "      <td>0</td>\n",
       "      <td>1</td>\n",
       "      <td>1</td>\n",
       "    </tr>\n",
       "    <tr>\n",
       "      <th>894</th>\n",
       "      <td>62.0</td>\n",
       "      <td>9.6875</td>\n",
       "      <td>0</td>\n",
       "      <td>2</td>\n",
       "      <td>0</td>\n",
       "      <td>1</td>\n",
       "      <td>0</td>\n",
       "      <td>0</td>\n",
       "    </tr>\n",
       "    <tr>\n",
       "      <th>895</th>\n",
       "      <td>27.0</td>\n",
       "      <td>8.6625</td>\n",
       "      <td>0</td>\n",
       "      <td>3</td>\n",
       "      <td>0</td>\n",
       "      <td>0</td>\n",
       "      <td>1</td>\n",
       "      <td>0</td>\n",
       "    </tr>\n",
       "    <tr>\n",
       "      <th>896</th>\n",
       "      <td>22.0</td>\n",
       "      <td>12.2875</td>\n",
       "      <td>1</td>\n",
       "      <td>3</td>\n",
       "      <td>1</td>\n",
       "      <td>0</td>\n",
       "      <td>1</td>\n",
       "      <td>1</td>\n",
       "    </tr>\n",
       "  </tbody>\n",
       "</table>\n",
       "</div>\n",
       "      <button class=\"colab-df-convert\" onclick=\"convertToInteractive('df-3d1b005e-0412-4aa5-b0e9-b79b0acb0f9a')\"\n",
       "              title=\"Convert this dataframe to an interactive table.\"\n",
       "              style=\"display:none;\">\n",
       "        \n",
       "  <svg xmlns=\"http://www.w3.org/2000/svg\" height=\"24px\"viewBox=\"0 0 24 24\"\n",
       "       width=\"24px\">\n",
       "    <path d=\"M0 0h24v24H0V0z\" fill=\"none\"/>\n",
       "    <path d=\"M18.56 5.44l.94 2.06.94-2.06 2.06-.94-2.06-.94-.94-2.06-.94 2.06-2.06.94zm-11 1L8.5 8.5l.94-2.06 2.06-.94-2.06-.94L8.5 2.5l-.94 2.06-2.06.94zm10 10l.94 2.06.94-2.06 2.06-.94-2.06-.94-.94-2.06-.94 2.06-2.06.94z\"/><path d=\"M17.41 7.96l-1.37-1.37c-.4-.4-.92-.59-1.43-.59-.52 0-1.04.2-1.43.59L10.3 9.45l-7.72 7.72c-.78.78-.78 2.05 0 2.83L4 21.41c.39.39.9.59 1.41.59.51 0 1.02-.2 1.41-.59l7.78-7.78 2.81-2.81c.8-.78.8-2.07 0-2.86zM5.41 20L4 18.59l7.72-7.72 1.47 1.35L5.41 20z\"/>\n",
       "  </svg>\n",
       "      </button>\n",
       "      \n",
       "  <style>\n",
       "    .colab-df-container {\n",
       "      display:flex;\n",
       "      flex-wrap:wrap;\n",
       "      gap: 12px;\n",
       "    }\n",
       "\n",
       "    .colab-df-convert {\n",
       "      background-color: #E8F0FE;\n",
       "      border: none;\n",
       "      border-radius: 50%;\n",
       "      cursor: pointer;\n",
       "      display: none;\n",
       "      fill: #1967D2;\n",
       "      height: 32px;\n",
       "      padding: 0 0 0 0;\n",
       "      width: 32px;\n",
       "    }\n",
       "\n",
       "    .colab-df-convert:hover {\n",
       "      background-color: #E2EBFA;\n",
       "      box-shadow: 0px 1px 2px rgba(60, 64, 67, 0.3), 0px 1px 3px 1px rgba(60, 64, 67, 0.15);\n",
       "      fill: #174EA6;\n",
       "    }\n",
       "\n",
       "    [theme=dark] .colab-df-convert {\n",
       "      background-color: #3B4455;\n",
       "      fill: #D2E3FC;\n",
       "    }\n",
       "\n",
       "    [theme=dark] .colab-df-convert:hover {\n",
       "      background-color: #434B5C;\n",
       "      box-shadow: 0px 1px 3px 1px rgba(0, 0, 0, 0.15);\n",
       "      filter: drop-shadow(0px 1px 2px rgba(0, 0, 0, 0.3));\n",
       "      fill: #FFFFFF;\n",
       "    }\n",
       "  </style>\n",
       "\n",
       "      <script>\n",
       "        const buttonEl =\n",
       "          document.querySelector('#df-3d1b005e-0412-4aa5-b0e9-b79b0acb0f9a button.colab-df-convert');\n",
       "        buttonEl.style.display =\n",
       "          google.colab.kernel.accessAllowed ? 'block' : 'none';\n",
       "\n",
       "        async function convertToInteractive(key) {\n",
       "          const element = document.querySelector('#df-3d1b005e-0412-4aa5-b0e9-b79b0acb0f9a');\n",
       "          const dataTable =\n",
       "            await google.colab.kernel.invokeFunction('convertToInteractive',\n",
       "                                                     [key], {});\n",
       "          if (!dataTable) return;\n",
       "\n",
       "          const docLinkHtml = 'Like what you see? Visit the ' +\n",
       "            '<a target=\"_blank\" href=https://colab.research.google.com/notebooks/data_table.ipynb>data table notebook</a>'\n",
       "            + ' to learn more about interactive tables.';\n",
       "          element.innerHTML = '';\n",
       "          dataTable['output_type'] = 'display_data';\n",
       "          await google.colab.output.renderOutput(dataTable, element);\n",
       "          const docLink = document.createElement('div');\n",
       "          docLink.innerHTML = docLinkHtml;\n",
       "          element.appendChild(docLink);\n",
       "        }\n",
       "      </script>\n",
       "    </div>\n",
       "  </div>\n",
       "  "
      ],
      "text/plain": [
       "             Idade   Tarifa  PaisFilhos  Classe  IrmaosConjuge  Embarque_Q  \\\n",
       "PassengerId                                                                  \n",
       "892           34.5   7.8292           0       3              0           1   \n",
       "893           47.0   7.0000           0       3              1           0   \n",
       "894           62.0   9.6875           0       2              0           1   \n",
       "895           27.0   8.6625           0       3              0           0   \n",
       "896           22.0  12.2875           1       3              1           0   \n",
       "\n",
       "             Embarque_S  Sexo_mulher  \n",
       "PassengerId                           \n",
       "892                   0            0  \n",
       "893                   1            1  \n",
       "894                   0            0  \n",
       "895                   1            0  \n",
       "896                   1            1  "
      ]
     },
     "execution_count": 37,
     "metadata": {},
     "output_type": "execute_result"
    }
   ],
   "source": [
    "test.head()"
   ]
  },
  {
   "cell_type": "code",
   "execution_count": 38,
   "metadata": {
    "executionInfo": {
     "elapsed": 375,
     "status": "ok",
     "timestamp": 1648564040031,
     "user": {
      "displayName": "Darlan Quintanilha",
      "photoUrl": "https://lh3.googleusercontent.com/a-/AOh14Gho9QhXpBr_K3-TYqRSVJqD3Y8smoOnabH_ToSp8da6hv1U-WOBXtTPxsWhlQuU7APNa6lh8Sl4AQjvZVtLqQFXsJaJ5_YV0aIE1Z5icQqve-uOYNOW1KR-ychx9GxHOiUvjl0-9k6WLPOQSzjkdOkYXE_I6FGAMvZEwutni_GwDa-fKORyFoIC9n03EQywUq60ofcaHdUsQvGVzvSABVIxl92vLcDIqa-BZEVJHz1VnNRgfY5zyA-DPQxRSjO2rog5BPnJwqeQXZ9IURhDFzs25NIbqRbOyZh1M-Wz3x5DmNdMf05cHb5nMRYEAA84-GrNsmXmqLSJdRymgyxl3roreuqeFqm3hW6MBQUD_yc0TVmuqx7YlpvasiYm3HHnfu-jw0Yk-FIg-X6mKen1Te5HGWqXy2ay1qQ2p4_46y05OaRWX1xEAqupt8JJ_F1moxGUD9egh-yK0TlllvXhTbQG4O62_KvepHbeQys5PYehC9rkBaDd3sTWvY523KQkxh_j2-bycyZWSsUvj1aRV-RWKX4AVjAMSYsq2BtosQXyHIi20WYZ1jVXn1r4cdYSofFPM3VCuejaTe0HbQBsO1ybayn6r6vmNx30C0l5oOqMl_1B_Nuj4_JMbkP2Muiv65cY932aRR5Rs4af1dNGgb6oxYFQWcTLdZXkBU4nvM2xv6RAspdZHGvBJlP_FqM-nbitg2cJapSnvbrcML--1qv9ZNp6jFWcayDcRR1AXvsJbpQQ19HWyWJ_s7eekd7awqEqEZc=s64",
      "userId": "03354826074941061531"
     },
     "user_tz": 180
    },
    "id": "CeyCzvNZtFpV"
   },
   "outputs": [],
   "source": [
    "# Pré-processamento\n",
    "test[features_list] = scaler.transform(test[features_list])"
   ]
  },
  {
   "cell_type": "code",
   "execution_count": 39,
   "metadata": {
    "colab": {
     "base_uri": "https://localhost:8080/"
    },
    "executionInfo": {
     "elapsed": 535,
     "status": "ok",
     "timestamp": 1648564060329,
     "user": {
      "displayName": "Darlan Quintanilha",
      "photoUrl": "https://lh3.googleusercontent.com/a-/AOh14Gho9QhXpBr_K3-TYqRSVJqD3Y8smoOnabH_ToSp8da6hv1U-WOBXtTPxsWhlQuU7APNa6lh8Sl4AQjvZVtLqQFXsJaJ5_YV0aIE1Z5icQqve-uOYNOW1KR-ychx9GxHOiUvjl0-9k6WLPOQSzjkdOkYXE_I6FGAMvZEwutni_GwDa-fKORyFoIC9n03EQywUq60ofcaHdUsQvGVzvSABVIxl92vLcDIqa-BZEVJHz1VnNRgfY5zyA-DPQxRSjO2rog5BPnJwqeQXZ9IURhDFzs25NIbqRbOyZh1M-Wz3x5DmNdMf05cHb5nMRYEAA84-GrNsmXmqLSJdRymgyxl3roreuqeFqm3hW6MBQUD_yc0TVmuqx7YlpvasiYm3HHnfu-jw0Yk-FIg-X6mKen1Te5HGWqXy2ay1qQ2p4_46y05OaRWX1xEAqupt8JJ_F1moxGUD9egh-yK0TlllvXhTbQG4O62_KvepHbeQys5PYehC9rkBaDd3sTWvY523KQkxh_j2-bycyZWSsUvj1aRV-RWKX4AVjAMSYsq2BtosQXyHIi20WYZ1jVXn1r4cdYSofFPM3VCuejaTe0HbQBsO1ybayn6r6vmNx30C0l5oOqMl_1B_Nuj4_JMbkP2Muiv65cY932aRR5Rs4af1dNGgb6oxYFQWcTLdZXkBU4nvM2xv6RAspdZHGvBJlP_FqM-nbitg2cJapSnvbrcML--1qv9ZNp6jFWcayDcRR1AXvsJbpQQ19HWyWJ_s7eekd7awqEqEZc=s64",
      "userId": "03354826074941061531"
     },
     "user_tz": 180
    },
    "id": "Q0GmmhHPtFpW",
    "outputId": "c2b61eb3-97b5-49e7-c28a-e5e64b682856"
   },
   "outputs": [
    {
     "data": {
      "text/plain": [
       "XGBClassifier(colsample_bytree=0.700904395603972, gamma=2.9359159951037226,\n",
       "              learning_rate=0.021028550855054638, max_depth=5,\n",
       "              reg_lambda=1.4818921619256187, scale_pos_weight=2.494902675820597,\n",
       "              subsample=0.8371686363212292)"
      ]
     },
     "execution_count": 39,
     "metadata": {},
     "output_type": "execute_result"
    }
   ],
   "source": [
    "# Treinamento\n",
    "final_model = xgb.XGBClassifier(\n",
    "    **grid_cv.best_params_,\n",
    "    objective=\"binary:logistic\"\n",
    ")\n",
    "\n",
    "final_model.fit(X,y)"
   ]
  },
  {
   "cell_type": "code",
   "execution_count": 40,
   "metadata": {
    "executionInfo": {
     "elapsed": 393,
     "status": "ok",
     "timestamp": 1648564065446,
     "user": {
      "displayName": "Darlan Quintanilha",
      "photoUrl": "https://lh3.googleusercontent.com/a-/AOh14Gho9QhXpBr_K3-TYqRSVJqD3Y8smoOnabH_ToSp8da6hv1U-WOBXtTPxsWhlQuU7APNa6lh8Sl4AQjvZVtLqQFXsJaJ5_YV0aIE1Z5icQqve-uOYNOW1KR-ychx9GxHOiUvjl0-9k6WLPOQSzjkdOkYXE_I6FGAMvZEwutni_GwDa-fKORyFoIC9n03EQywUq60ofcaHdUsQvGVzvSABVIxl92vLcDIqa-BZEVJHz1VnNRgfY5zyA-DPQxRSjO2rog5BPnJwqeQXZ9IURhDFzs25NIbqRbOyZh1M-Wz3x5DmNdMf05cHb5nMRYEAA84-GrNsmXmqLSJdRymgyxl3roreuqeFqm3hW6MBQUD_yc0TVmuqx7YlpvasiYm3HHnfu-jw0Yk-FIg-X6mKen1Te5HGWqXy2ay1qQ2p4_46y05OaRWX1xEAqupt8JJ_F1moxGUD9egh-yK0TlllvXhTbQG4O62_KvepHbeQys5PYehC9rkBaDd3sTWvY523KQkxh_j2-bycyZWSsUvj1aRV-RWKX4AVjAMSYsq2BtosQXyHIi20WYZ1jVXn1r4cdYSofFPM3VCuejaTe0HbQBsO1ybayn6r6vmNx30C0l5oOqMl_1B_Nuj4_JMbkP2Muiv65cY932aRR5Rs4af1dNGgb6oxYFQWcTLdZXkBU4nvM2xv6RAspdZHGvBJlP_FqM-nbitg2cJapSnvbrcML--1qv9ZNp6jFWcayDcRR1AXvsJbpQQ19HWyWJ_s7eekd7awqEqEZc=s64",
      "userId": "03354826074941061531"
     },
     "user_tz": 180
    },
    "id": "hapRUYhAtFpX"
   },
   "outputs": [],
   "source": [
    "pred = final_model.predict(test)"
   ]
  },
  {
   "cell_type": "markdown",
   "metadata": {
    "id": "PmCCPX4FtFpX"
   },
   "source": [
    "#### Submissão"
   ]
  },
  {
   "cell_type": "code",
   "execution_count": 41,
   "metadata": {
    "executionInfo": {
     "elapsed": 417,
     "status": "ok",
     "timestamp": 1648564099441,
     "user": {
      "displayName": "Darlan Quintanilha",
      "photoUrl": "https://lh3.googleusercontent.com/a-/AOh14Gho9QhXpBr_K3-TYqRSVJqD3Y8smoOnabH_ToSp8da6hv1U-WOBXtTPxsWhlQuU7APNa6lh8Sl4AQjvZVtLqQFXsJaJ5_YV0aIE1Z5icQqve-uOYNOW1KR-ychx9GxHOiUvjl0-9k6WLPOQSzjkdOkYXE_I6FGAMvZEwutni_GwDa-fKORyFoIC9n03EQywUq60ofcaHdUsQvGVzvSABVIxl92vLcDIqa-BZEVJHz1VnNRgfY5zyA-DPQxRSjO2rog5BPnJwqeQXZ9IURhDFzs25NIbqRbOyZh1M-Wz3x5DmNdMf05cHb5nMRYEAA84-GrNsmXmqLSJdRymgyxl3roreuqeFqm3hW6MBQUD_yc0TVmuqx7YlpvasiYm3HHnfu-jw0Yk-FIg-X6mKen1Te5HGWqXy2ay1qQ2p4_46y05OaRWX1xEAqupt8JJ_F1moxGUD9egh-yK0TlllvXhTbQG4O62_KvepHbeQys5PYehC9rkBaDd3sTWvY523KQkxh_j2-bycyZWSsUvj1aRV-RWKX4AVjAMSYsq2BtosQXyHIi20WYZ1jVXn1r4cdYSofFPM3VCuejaTe0HbQBsO1ybayn6r6vmNx30C0l5oOqMl_1B_Nuj4_JMbkP2Muiv65cY932aRR5Rs4af1dNGgb6oxYFQWcTLdZXkBU4nvM2xv6RAspdZHGvBJlP_FqM-nbitg2cJapSnvbrcML--1qv9ZNp6jFWcayDcRR1AXvsJbpQQ19HWyWJ_s7eekd7awqEqEZc=s64",
      "userId": "03354826074941061531"
     },
     "user_tz": 180
    },
    "id": "zrrcAMMMtFpX"
   },
   "outputs": [],
   "source": [
    "submission = pd.DataFrame({\n",
    "    'PassengerId': test.index,\n",
    "    'Survived': pred\n",
    "})\n",
    "\n",
    "submission['Survived'] = submission['Survived'].astype('int')"
   ]
  },
  {
   "cell_type": "code",
   "execution_count": 42,
   "metadata": {
    "executionInfo": {
     "elapsed": 1,
     "status": "ok",
     "timestamp": 1648564101031,
     "user": {
      "displayName": "Darlan Quintanilha",
      "photoUrl": "https://lh3.googleusercontent.com/a-/AOh14Gho9QhXpBr_K3-TYqRSVJqD3Y8smoOnabH_ToSp8da6hv1U-WOBXtTPxsWhlQuU7APNa6lh8Sl4AQjvZVtLqQFXsJaJ5_YV0aIE1Z5icQqve-uOYNOW1KR-ychx9GxHOiUvjl0-9k6WLPOQSzjkdOkYXE_I6FGAMvZEwutni_GwDa-fKORyFoIC9n03EQywUq60ofcaHdUsQvGVzvSABVIxl92vLcDIqa-BZEVJHz1VnNRgfY5zyA-DPQxRSjO2rog5BPnJwqeQXZ9IURhDFzs25NIbqRbOyZh1M-Wz3x5DmNdMf05cHb5nMRYEAA84-GrNsmXmqLSJdRymgyxl3roreuqeFqm3hW6MBQUD_yc0TVmuqx7YlpvasiYm3HHnfu-jw0Yk-FIg-X6mKen1Te5HGWqXy2ay1qQ2p4_46y05OaRWX1xEAqupt8JJ_F1moxGUD9egh-yK0TlllvXhTbQG4O62_KvepHbeQys5PYehC9rkBaDd3sTWvY523KQkxh_j2-bycyZWSsUvj1aRV-RWKX4AVjAMSYsq2BtosQXyHIi20WYZ1jVXn1r4cdYSofFPM3VCuejaTe0HbQBsO1ybayn6r6vmNx30C0l5oOqMl_1B_Nuj4_JMbkP2Muiv65cY932aRR5Rs4af1dNGgb6oxYFQWcTLdZXkBU4nvM2xv6RAspdZHGvBJlP_FqM-nbitg2cJapSnvbrcML--1qv9ZNp6jFWcayDcRR1AXvsJbpQQ19HWyWJ_s7eekd7awqEqEZc=s64",
      "userId": "03354826074941061531"
     },
     "user_tz": 180
    },
    "id": "4qIrULGUtFpY"
   },
   "outputs": [],
   "source": [
    "submission.to_csv('submission.csv', index=False)"
   ]
  },
  {
   "cell_type": "code",
   "execution_count": null,
   "metadata": {
    "id": "kum8_U3oE9wF"
   },
   "outputs": [],
   "source": []
  }
 ],
 "metadata": {
  "colab": {
   "collapsed_sections": [],
   "name": "xgboost_darlan.ipynb",
   "provenance": []
  },
  "kernelspec": {
   "display_name": "Python 3",
   "language": "python",
   "name": "python3"
  },
  "language_info": {
   "codemirror_mode": {
    "name": "ipython",
    "version": 3
   },
   "file_extension": ".py",
   "mimetype": "text/x-python",
   "name": "python",
   "nbconvert_exporter": "python",
   "pygments_lexer": "ipython3",
   "version": "3.7.7"
  }
 },
 "nbformat": 4,
 "nbformat_minor": 1
}
